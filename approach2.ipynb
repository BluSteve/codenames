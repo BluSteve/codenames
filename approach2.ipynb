{
 "cells": [
  {
   "cell_type": "code",
   "execution_count": 246,
   "id": "initial_id",
   "metadata": {
    "collapsed": true,
    "ExecuteTime": {
     "end_time": "2024-01-07T08:49:40.666794900Z",
     "start_time": "2024-01-07T08:49:39.209089900Z"
    }
   },
   "outputs": [],
   "source": [
    "import gensim\n",
    "from nltk.corpus import wordnet as wn\n",
    "\n",
    "model = gensim.models.KeyedVectors.load_word2vec_format('gigaword-nocase-26.bin', binary=True)"
   ]
  },
  {
   "cell_type": "code",
   "outputs": [],
   "source": [
    "class NishyBot2:\n",
    "    # M goes from 1 to 5, score difference goes from 1/9 to 9\n",
    "    SAMENESS_THRESHOLD = 0\n",
    "    ALLOWED_POS = ['JJ', 'JJR', 'JJS', 'NN', 'NNS', 'NNP', 'NNPS', 'VB', 'VBD', 'VBG', 'VBN', 'VBP', 'VBZ']\n",
    "\n",
    "    def get_risk_from_score(my_score, their_score):\n",
    "        norm = 1 - (2 * their_score - my_score + 7) / 24\n",
    "        return norm\n",
    "\n",
    "    def get_synonyms(word):\n",
    "        return tuple(filter(lambda x: x != word and x.isalpha(), wn.synsets(word)[0].lemma_names()))\n",
    "\n",
    "    def __init__(self, good, bad, okay, assassin, risk=-1):\n",
    "        self.good = good\n",
    "        self.bad = bad\n",
    "        self.okay = okay\n",
    "        self.assassin = assassin\n",
    "\n",
    "        if risk == -1:\n",
    "            risk = NishyBot2.get_risk_from_score(len(good), len(bad))\n",
    "\n",
    "        self.M = 1 + 4 * risk\n",
    "        self.TOP_N = int(self.M * 1000)\n",
    "        print(self.TOP_N)\n",
    "\n",
    "        self.good_similars = self.find_similars(good)\n",
    "        self.bad_similars = self.find_similars(bad)\n",
    "        self.okay_similars = self.find_similars(okay)\n",
    "        self.assassin_similars = self.find_similars(assassin)\n",
    "\n",
    "    def find_similars(self, words):\n",
    "        def find_similar(word):\n",
    "            return {x[0]: i for i, x in enumerate(model.most_similar(positive=[word], topn=self.TOP_N))}\n",
    "\n",
    "        similars = []\n",
    "        for word in words:\n",
    "            try:\n",
    "                similars.append(find_similar(word))\n",
    "            except KeyError:\n",
    "                synonyms = NishyBot2.get_synonyms(word)\n",
    "                b = False\n",
    "                for synonym in synonyms:\n",
    "                    try:\n",
    "                        similars.append(find_similar(synonym))\n",
    "                        b = True\n",
    "                        break\n",
    "                    except KeyError:\n",
    "                        continue\n",
    "                if not b:\n",
    "                    print('No similar words found for', word)\n",
    "                    \n",
    "        return similars\n",
    "\n",
    "    def count_matches(self, wordlists, test):\n",
    "        count = 0\n",
    "        for wordlist in wordlists:\n",
    "            if test in wordlist:\n",
    "                count += self.f(wordlist[test])\n",
    "        return count\n",
    "\n",
    "    def f(self, x):\n",
    "        k = self.TOP_N\n",
    "        m = 10 ** self.M\n",
    "        return k * (1 / (x + m) - 1 / (k + m)) / (1 / m - 1 / (k + m))\n",
    "\n",
    "    def good_matches(self, test):\n",
    "        result = []\n",
    "        for i, similar in enumerate(self.good_similars):\n",
    "            if test in similar:\n",
    "                result.append(self.good[i])\n",
    "        return result\n",
    "\n",
    "    def score(self, test):\n",
    "        good_count = self.count_matches(self.good_similars, test)\n",
    "        bad_count = self.count_matches(self.bad_similars, test)\n",
    "        okay_count = self.count_matches(self.okay_similars, test)\n",
    "        assassin_count = self.count_matches(self.assassin_similars, test)\n",
    "\n",
    "        return good_count - bad_count - 0.5 * okay_count - 3 * assassin_count  # maybe use a gan to optimize these parameters + TOP_N? not many things to optimize...\n",
    "\n",
    "    def score_all(self, wordset):\n",
    "        scores = [(x, self.score(x)) for x in wordset]\n",
    "        scores.sort(key=lambda x: x[1], reverse=True)\n",
    "        scores = dict(scores)\n",
    "        return scores\n",
    "\n",
    "    def score_all_pruned(self, wordset):\n",
    "        scores = self.score_all(wordset)\n",
    "        hints = list(scores.keys())\n",
    "\n",
    "        for i, hint in enumerate(hints):\n",
    "            if len(wn.synsets(hint)) == 0:  # if it's not a real word\n",
    "                if hint in scores:\n",
    "                    scores.pop(hint)\n",
    "            elif pos_tag([hint])[0][1] not in NishyBot2.ALLOWED_POS:  # only allow nouns, adj, and verbs\n",
    "                if hint in scores:\n",
    "                    scores.pop(hint)\n",
    "            else:  # if it's too similar to an existing word\n",
    "                for word in self.good:\n",
    "                    lword = word.lower()\n",
    "                    lhint = hint.lower()\n",
    "                    if lword in lhint or lhint in lword:\n",
    "                        if hint in scores:\n",
    "                            scores.pop(hint)\n",
    "                            break\n",
    "\n",
    "        return scores\n"
   ],
   "metadata": {
    "collapsed": false,
    "ExecuteTime": {
     "end_time": "2024-01-07T09:08:07.680724Z",
     "start_time": "2024-01-07T09:08:07.665162Z"
    }
   },
   "id": "15c8a61806e0e419",
   "execution_count": 318
  },
  {
   "cell_type": "code",
   "outputs": [],
   "source": [
    "def pregame(good, bad, okay, assassin):\n",
    "    good2 = good.copy()\n",
    "    while len(good2) != 0:\n",
    "        n = NishyBot2(good2, bad, okay, assassin)\n",
    "\n",
    "        s = set()\n",
    "        for similar in n.good_similars:\n",
    "            for word in similar:\n",
    "                s.add(word)\n",
    "\n",
    "        sc = n.score_all_pruned(s)\n",
    "\n",
    "        hint = list(sc.keys())[0]\n",
    "        matches = n.good_matches(hint)\n",
    "        print(hint, matches)\n",
    "        good2 = list(filter(lambda x: x not in matches, good2))\n",
    "\n",
    "\n",
    "def game(good, bad, okay, assassin):\n",
    "    n = NishyBot2(good, bad, okay, assassin)\n",
    "\n",
    "    s = set()\n",
    "    for similar in n.good_similars:\n",
    "        for word in similar:\n",
    "            s.add(word)\n",
    "\n",
    "    sc = n.score_all_pruned(s)\n",
    "    # print([(x, n.good_matches(x), sc[x]) for x in list(sc.keys())][:3])\n",
    "    hint = list(sc.keys())[0]\n",
    "    return hint, n.good_matches(hint)"
   ],
   "metadata": {
    "collapsed": false,
    "ExecuteTime": {
     "end_time": "2024-01-07T09:08:33.455323200Z",
     "start_time": "2024-01-07T09:08:33.444792Z"
    }
   },
   "id": "d3f7ac99c52a128c",
   "execution_count": 322
  },
  {
   "cell_type": "code",
   "outputs": [],
   "source": [
    "# good = 'sack makeup bottle cuckoo cast cone jockey America'.lower().split(' ')\n",
    "# bad = 'nut Russia fog break spider bear rip tube plane'.lower().split(' ')\n",
    "# okay = 'Christmas pool Beijing trip nyc fever peanut'.lower().split(' ')\n",
    "# assassin = 'link'.lower().split(' ')\n",
    "\n",
    "good = 'spot,blade,chain,record,magician,jeweler,fiddle,apple'.lower().split(',')\n",
    "bad = 'wonderland,Newton,glacier,pig,spy,lead,mess,duck,stable'.lower().split(',')\n",
    "okay = 'India,millionaire,rainbow,razor,bridge,polo,Notre,Dame'.lower().split(',')\n",
    "assassin = 'ice,cream'.lower().split(',')\n",
    "\n",
    "# good = ['giant', 'thumb', 'nail', 'lock','plane', 'ship','cell','state', 'capital']\n",
    "# bad = ['aztec', 'court','chocolate','space','snow']\n",
    "# okay = ['shop','genius','ambulance','button','heart','pupil','vet']\n",
    "# assassin = ['microscope']\n",
    "\n",
    "# good = 'apple,sister,river,einstein,brazil,garden,china,bench,tip'.split(',')\n",
    "# bad = 'ray,spider,king,arthur,rail,paste,cover,octopus'.split(',')\n",
    "# okay = 'roll,magazine,worm,bucket,golf,vacuum,scientist'.split(',')\n",
    "# assassin = ['code']\n",
    "\n",
    "good = 'straddle'.lower().split(',')\n",
    "bad = 'glasses,leaf'.lower().split(',')\n",
    "okay = 'tail,lion,spike,inch,ivory,suit,cross'.lower().split(',')\n",
    "assassin = 'knight'.lower().split(',')"
   ],
   "metadata": {
    "collapsed": false,
    "ExecuteTime": {
     "end_time": "2024-01-07T09:08:33.802743200Z",
     "start_time": "2024-01-07T09:08:33.791707900Z"
    }
   },
   "id": "e4aee83445073875",
   "execution_count": 323
  },
  {
   "cell_type": "code",
   "outputs": [
    {
     "name": "stdout",
     "output_type": "stream",
     "text": [
      "3833\n",
      "[('showy', ['glasses', 'leaf'], 6088.870720898425), ('lustrous', ['glasses', 'leaf'], 5717.364611194678), ('luxuriant', ['glasses', 'leaf'], 5675.911710805372)]\n"
     ]
    },
    {
     "data": {
      "text/plain": "('showy', ['glasses', 'leaf'])"
     },
     "execution_count": 325,
     "metadata": {},
     "output_type": "execute_result"
    }
   ],
   "source": [
    "game(bad, good, okay, assassin)"
   ],
   "metadata": {
    "collapsed": false,
    "ExecuteTime": {
     "end_time": "2024-01-07T09:08:42.622797600Z",
     "start_time": "2024-01-07T09:08:40.973573800Z"
    }
   },
   "id": "6e0e101fca9f0ee0",
   "execution_count": 325
  },
  {
   "cell_type": "code",
   "outputs": [
    {
     "name": "stdout",
     "output_type": "stream",
     "text": [
      "No similar words found for glasses\n"
     ]
    },
    {
     "ename": "KeyboardInterrupt",
     "evalue": "",
     "output_type": "error",
     "traceback": [
      "\u001B[1;31m---------------------------------------------------------------------------\u001B[0m",
      "\u001B[1;31mKeyboardInterrupt\u001B[0m                         Traceback (most recent call last)",
      "Cell \u001B[1;32mIn[185], line 1\u001B[0m\n\u001B[1;32m----> 1\u001B[0m \u001B[43mpregame\u001B[49m\u001B[43m(\u001B[49m\u001B[43mbad\u001B[49m\u001B[43m,\u001B[49m\u001B[43m \u001B[49m\u001B[43mgood\u001B[49m\u001B[43m,\u001B[49m\u001B[43m \u001B[49m\u001B[43mokay\u001B[49m\u001B[43m,\u001B[49m\u001B[43m \u001B[49m\u001B[43massassin\u001B[49m\u001B[43m)\u001B[49m\n",
      "Cell \u001B[1;32mIn[180], line 11\u001B[0m, in \u001B[0;36mpregame\u001B[1;34m(good, bad, okay, assassin)\u001B[0m\n\u001B[0;32m      8\u001B[0m     \u001B[38;5;28;01mfor\u001B[39;00m word \u001B[38;5;129;01min\u001B[39;00m similar:\n\u001B[0;32m      9\u001B[0m         s\u001B[38;5;241m.\u001B[39madd(word)\n\u001B[1;32m---> 11\u001B[0m sc \u001B[38;5;241m=\u001B[39m \u001B[43mn\u001B[49m\u001B[38;5;241;43m.\u001B[39;49m\u001B[43mscore_all_pruned\u001B[49m\u001B[43m(\u001B[49m\u001B[43ms\u001B[49m\u001B[43m)\u001B[49m\n\u001B[0;32m     13\u001B[0m hint \u001B[38;5;241m=\u001B[39m \u001B[38;5;28mlist\u001B[39m(sc\u001B[38;5;241m.\u001B[39mkeys())[\u001B[38;5;241m0\u001B[39m]\n\u001B[0;32m     14\u001B[0m matches \u001B[38;5;241m=\u001B[39m n\u001B[38;5;241m.\u001B[39mgood_matches(hint)\n",
      "Cell \u001B[1;32mIn[176], line 73\u001B[0m, in \u001B[0;36mNishyBot2.score_all_pruned\u001B[1;34m(self, wordset)\u001B[0m\n\u001B[0;32m     71\u001B[0m     \u001B[38;5;28;01mif\u001B[39;00m hint \u001B[38;5;129;01min\u001B[39;00m scores:\n\u001B[0;32m     72\u001B[0m         scores\u001B[38;5;241m.\u001B[39mpop(hint)\n\u001B[1;32m---> 73\u001B[0m \u001B[38;5;28;01melif\u001B[39;00m \u001B[43mpos_tag\u001B[49m\u001B[43m(\u001B[49m\u001B[43m[\u001B[49m\u001B[43mhint\u001B[49m\u001B[43m]\u001B[49m\u001B[43m)\u001B[49m[\u001B[38;5;241m0\u001B[39m][\u001B[38;5;241m1\u001B[39m] \u001B[38;5;129;01mnot\u001B[39;00m \u001B[38;5;129;01min\u001B[39;00m NishyBot2\u001B[38;5;241m.\u001B[39mALLOWED_POS:  \u001B[38;5;66;03m# only allow nouns, adj, and verbs\u001B[39;00m\n\u001B[0;32m     74\u001B[0m     \u001B[38;5;28;01mif\u001B[39;00m hint \u001B[38;5;129;01min\u001B[39;00m scores:\n\u001B[0;32m     75\u001B[0m         scores\u001B[38;5;241m.\u001B[39mpop(hint)\n",
      "File \u001B[1;32m~\\IdeaProjects\\codenames\\env\\Lib\\site-packages\\nltk\\tag\\__init__.py:165\u001B[0m, in \u001B[0;36mpos_tag\u001B[1;34m(tokens, tagset, lang)\u001B[0m\n\u001B[0;32m    140\u001B[0m \u001B[38;5;28;01mdef\u001B[39;00m \u001B[38;5;21mpos_tag\u001B[39m(tokens, tagset\u001B[38;5;241m=\u001B[39m\u001B[38;5;28;01mNone\u001B[39;00m, lang\u001B[38;5;241m=\u001B[39m\u001B[38;5;124m\"\u001B[39m\u001B[38;5;124meng\u001B[39m\u001B[38;5;124m\"\u001B[39m):\n\u001B[0;32m    141\u001B[0m \u001B[38;5;250m    \u001B[39m\u001B[38;5;124;03m\"\"\"\u001B[39;00m\n\u001B[0;32m    142\u001B[0m \u001B[38;5;124;03m    Use NLTK's currently recommended part of speech tagger to\u001B[39;00m\n\u001B[0;32m    143\u001B[0m \u001B[38;5;124;03m    tag the given list of tokens.\u001B[39;00m\n\u001B[1;32m   (...)\u001B[0m\n\u001B[0;32m    163\u001B[0m \u001B[38;5;124;03m    :rtype: list(tuple(str, str))\u001B[39;00m\n\u001B[0;32m    164\u001B[0m \u001B[38;5;124;03m    \"\"\"\u001B[39;00m\n\u001B[1;32m--> 165\u001B[0m     tagger \u001B[38;5;241m=\u001B[39m \u001B[43m_get_tagger\u001B[49m\u001B[43m(\u001B[49m\u001B[43mlang\u001B[49m\u001B[43m)\u001B[49m\n\u001B[0;32m    166\u001B[0m     \u001B[38;5;28;01mreturn\u001B[39;00m _pos_tag(tokens, tagset, tagger, lang)\n",
      "File \u001B[1;32m~\\IdeaProjects\\codenames\\env\\Lib\\site-packages\\nltk\\tag\\__init__.py:107\u001B[0m, in \u001B[0;36m_get_tagger\u001B[1;34m(lang)\u001B[0m\n\u001B[0;32m    105\u001B[0m     tagger\u001B[38;5;241m.\u001B[39mload(ap_russian_model_loc)\n\u001B[0;32m    106\u001B[0m \u001B[38;5;28;01melse\u001B[39;00m:\n\u001B[1;32m--> 107\u001B[0m     tagger \u001B[38;5;241m=\u001B[39m \u001B[43mPerceptronTagger\u001B[49m\u001B[43m(\u001B[49m\u001B[43m)\u001B[49m\n\u001B[0;32m    108\u001B[0m \u001B[38;5;28;01mreturn\u001B[39;00m tagger\n",
      "File \u001B[1;32m~\\IdeaProjects\\codenames\\env\\Lib\\site-packages\\nltk\\tag\\perceptron.py:167\u001B[0m, in \u001B[0;36mPerceptronTagger.__init__\u001B[1;34m(self, load)\u001B[0m\n\u001B[0;32m    164\u001B[0m \u001B[38;5;28mself\u001B[39m\u001B[38;5;241m.\u001B[39mclasses \u001B[38;5;241m=\u001B[39m \u001B[38;5;28mset\u001B[39m()\n\u001B[0;32m    165\u001B[0m \u001B[38;5;28;01mif\u001B[39;00m load:\n\u001B[0;32m    166\u001B[0m     AP_MODEL_LOC \u001B[38;5;241m=\u001B[39m \u001B[38;5;124m\"\u001B[39m\u001B[38;5;124mfile:\u001B[39m\u001B[38;5;124m\"\u001B[39m \u001B[38;5;241m+\u001B[39m \u001B[38;5;28mstr\u001B[39m(\n\u001B[1;32m--> 167\u001B[0m         \u001B[43mfind\u001B[49m\u001B[43m(\u001B[49m\u001B[38;5;124;43m\"\u001B[39;49m\u001B[38;5;124;43mtaggers/averaged_perceptron_tagger/\u001B[39;49m\u001B[38;5;124;43m\"\u001B[39;49m\u001B[43m \u001B[49m\u001B[38;5;241;43m+\u001B[39;49m\u001B[43m \u001B[49m\u001B[43mPICKLE\u001B[49m\u001B[43m)\u001B[49m\n\u001B[0;32m    168\u001B[0m     )\n\u001B[0;32m    169\u001B[0m     \u001B[38;5;28mself\u001B[39m\u001B[38;5;241m.\u001B[39mload(AP_MODEL_LOC)\n",
      "File \u001B[1;32m~\\IdeaProjects\\codenames\\env\\Lib\\site-packages\\nltk\\data.py:522\u001B[0m, in \u001B[0;36mfind\u001B[1;34m(resource_name, paths)\u001B[0m\n\u001B[0;32m    519\u001B[0m \u001B[38;5;66;03m# Check each item in our path\u001B[39;00m\n\u001B[0;32m    520\u001B[0m \u001B[38;5;28;01mfor\u001B[39;00m path_ \u001B[38;5;129;01min\u001B[39;00m paths:\n\u001B[0;32m    521\u001B[0m     \u001B[38;5;66;03m# Is the path item a zipfile?\u001B[39;00m\n\u001B[1;32m--> 522\u001B[0m     \u001B[38;5;28;01mif\u001B[39;00m path_ \u001B[38;5;129;01mand\u001B[39;00m (\u001B[43mos\u001B[49m\u001B[38;5;241;43m.\u001B[39;49m\u001B[43mpath\u001B[49m\u001B[38;5;241;43m.\u001B[39;49m\u001B[43misfile\u001B[49m\u001B[43m(\u001B[49m\u001B[43mpath_\u001B[49m\u001B[43m)\u001B[49m \u001B[38;5;129;01mand\u001B[39;00m path_\u001B[38;5;241m.\u001B[39mendswith(\u001B[38;5;124m\"\u001B[39m\u001B[38;5;124m.zip\u001B[39m\u001B[38;5;124m\"\u001B[39m)):\n\u001B[0;32m    523\u001B[0m         \u001B[38;5;28;01mtry\u001B[39;00m:\n\u001B[0;32m    524\u001B[0m             \u001B[38;5;28;01mreturn\u001B[39;00m ZipFilePathPointer(path_, resource_name)\n",
      "\u001B[1;31mKeyboardInterrupt\u001B[0m: "
     ]
    }
   ],
   "source": [
    "pregame(bad, good, okay, assassin)"
   ],
   "metadata": {
    "collapsed": false,
    "ExecuteTime": {
     "end_time": "2024-01-07T08:32:53.456117600Z",
     "start_time": "2024-01-07T08:32:52.355943300Z"
    }
   },
   "id": "58a06603cade8335",
   "execution_count": 185
  },
  {
   "cell_type": "code",
   "outputs": [
    {
     "ename": "IndexError",
     "evalue": "list index out of range",
     "output_type": "error",
     "traceback": [
      "\u001B[1;31m---------------------------------------------------------------------------\u001B[0m",
      "\u001B[1;31mIndexError\u001B[0m                                Traceback (most recent call last)",
      "Cell \u001B[1;32mIn[113], line 6\u001B[0m\n\u001B[0;32m      3\u001B[0m     \u001B[38;5;28;01mfor\u001B[39;00m word \u001B[38;5;129;01min\u001B[39;00m similar:\n\u001B[0;32m      4\u001B[0m         s\u001B[38;5;241m.\u001B[39madd(word)\n\u001B[1;32m----> 6\u001B[0m \u001B[38;5;28mset\u001B[39m(n\u001B[38;5;241m.\u001B[39mgood_similars[\u001B[38;5;241m1\u001B[39m]\u001B[38;5;241m.\u001B[39mkeys())\u001B[38;5;241m.\u001B[39mintersection(\u001B[38;5;28mset\u001B[39m(n\u001B[38;5;241m.\u001B[39mgood_similars[\u001B[38;5;241m2\u001B[39m]\u001B[38;5;241m.\u001B[39mkeys()))\u001B[38;5;241m.\u001B[39mintersection(\u001B[38;5;28mset\u001B[39m(\u001B[43mn\u001B[49m\u001B[38;5;241;43m.\u001B[39;49m\u001B[43mgood_similars\u001B[49m\u001B[43m[\u001B[49m\u001B[38;5;241;43m8\u001B[39;49m\u001B[43m]\u001B[49m\u001B[38;5;241m.\u001B[39mkeys()))\n",
      "\u001B[1;31mIndexError\u001B[0m: list index out of range"
     ]
    }
   ],
   "source": [
    "s = set()\n",
    "for similar in n.good_similars:\n",
    "    for word in similar:\n",
    "        s.add(word)\n",
    "\n",
    "set(n.good_similars[1].keys()).intersection(set(n.good_similars[2].keys())).intersection(set(n.good_similars[8].keys()))"
   ],
   "metadata": {
    "collapsed": false,
    "ExecuteTime": {
     "end_time": "2024-01-07T08:06:52.056588300Z",
     "start_time": "2024-01-07T08:06:52.041860600Z"
    }
   },
   "id": "b5e4859b13ae9d96",
   "execution_count": 113
  },
  {
   "cell_type": "code",
   "outputs": [
    {
     "name": "stdout",
     "output_type": "stream",
     "text": [
      "100\n",
      "india ['brazil', 'china']\n",
      "tributary ['river']\n",
      "dugout ['bench']\n",
      "lawn ['garden']\n",
      "corner ['tip']\n",
      "brother ['sister']\n",
      "relativity ['einstein']\n",
      "ipod ['apple']\n",
      "\n",
      "500\n",
      "india ['brazil', 'china']\n",
      "substitute ['bench', 'tip']\n",
      "pond ['river', 'garden']\n",
      "sibling ['sister']\n",
      "relativity ['einstein']\n",
      "ipod ['apple']\n",
      "\n",
      "1000\n",
      "india ['brazil', 'china']\n",
      "substitute ['bench', 'tip']\n",
      "terrace ['river', 'garden']\n",
      "sibling ['sister']\n",
      "relativity ['einstein']\n",
      "ipod ['apple']\n",
      "\n",
      "2000\n",
      "india ['brazil', 'china']\n",
      "substitute ['bench', 'tip']\n",
      "lake ['river', 'garden']\n",
      "relativity ['einstein']\n",
      "sibling ['sister']\n",
      "ipod ['apple']\n",
      "\n",
      "3000\n",
      "india ['brazil', 'china']\n",
      "substitute ['bench', 'tip']\n",
      "lake ['river', 'garden']\n",
      "relativity ['einstein']\n",
      "sibling ['sister']\n",
      "ipod ['apple']\n",
      "\n",
      "5000\n",
      "india ['brazil', 'china']\n",
      "substitute ['bench', 'tip']\n",
      "terrace ['river', 'garden']\n",
      "freud ['einstein']\n",
      "sibling ['sister']\n",
      "ipod ['apple']\n"
     ]
    }
   ],
   "source": [
    "ns = [100, 500, 1000, 2000, 3000, 5000]\n",
    "for n in ns:\n",
    "    print(n)\n",
    "    NishyBot2.TOP_N = n\n",
    "    pregame(good, bad, okay, assassin)\n",
    "    print()"
   ],
   "metadata": {
    "collapsed": false,
    "ExecuteTime": {
     "end_time": "2024-01-04T09:14:09.984852400Z",
     "start_time": "2024-01-04T09:13:41.062191900Z"
    }
   },
   "id": "36c197a22473ed44",
   "execution_count": 159
  },
  {
   "cell_type": "code",
   "outputs": [
    {
     "data": {
      "text/plain": "0"
     },
     "execution_count": 224,
     "metadata": {},
     "output_type": "execute_result"
    }
   ],
   "source": [
    "NishyBot2.count_matches(n.bad_similars, 'spoiled')"
   ],
   "metadata": {
    "collapsed": false
   },
   "id": "3e1607b5e74a93b",
   "execution_count": 224
  },
  {
   "cell_type": "code",
   "outputs": [
    {
     "data": {
      "text/plain": "1"
     },
     "execution_count": 227,
     "metadata": {},
     "output_type": "execute_result"
    }
   ],
   "source": [
    "n.good_similars[good.index('cone')].index('encase')"
   ],
   "metadata": {
    "collapsed": false,
    "ExecuteTime": {
     "end_time": "2023-12-31T10:01:53.697365Z",
     "start_time": "2023-12-31T10:01:53.691761600Z"
    }
   },
   "id": "b4fcb10ec4c83799",
   "execution_count": 227
  },
  {
   "cell_type": "code",
   "outputs": [
    {
     "data": {
      "text/plain": "[('possibly', 'RB')]"
     },
     "execution_count": 129,
     "metadata": {},
     "output_type": "execute_result"
    }
   ],
   "source": [
    "from nltk.tag import pos_tag\n",
    "\n",
    "pos_tag(['possibly'\n",
    "         ])"
   ],
   "metadata": {
    "collapsed": false,
    "ExecuteTime": {
     "end_time": "2024-01-04T09:10:15.452136500Z",
     "start_time": "2024-01-04T09:10:15.446220100Z"
    }
   },
   "id": "c774ccd1ddd24926",
   "execution_count": 129
  },
  {
   "cell_type": "code",
   "outputs": [],
   "source": [],
   "metadata": {
    "collapsed": false
   },
   "id": "f1e2d0c43c9fc083"
  }
 ],
 "metadata": {
  "kernelspec": {
   "display_name": "Python 3",
   "language": "python",
   "name": "python3"
  },
  "language_info": {
   "codemirror_mode": {
    "name": "ipython",
    "version": 2
   },
   "file_extension": ".py",
   "mimetype": "text/x-python",
   "name": "python",
   "nbconvert_exporter": "python",
   "pygments_lexer": "ipython2",
   "version": "2.7.6"
  }
 },
 "nbformat": 4,
 "nbformat_minor": 5
}
