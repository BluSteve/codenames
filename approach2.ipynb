{
 "cells": [
  {
   "cell_type": "code",
   "execution_count": 53,
   "id": "initial_id",
   "metadata": {
    "collapsed": true,
    "ExecuteTime": {
     "end_time": "2023-12-31T08:53:30.635876600Z",
     "start_time": "2023-12-31T08:53:29.173343Z"
    }
   },
   "outputs": [],
   "source": [
    "import gensim\n",
    "from nltk.corpus import wordnet as wn\n",
    "from nltk.metrics.distance import edit_distance\n",
    "\n",
    "# word2vec_sample = str(find('models/word2vec_sample/pruned.word2vec.txt'))\n",
    "model = gensim.models.KeyedVectors.load_word2vec_format('gigaword.bin', binary=True)"
   ]
  },
  {
   "cell_type": "code",
   "outputs": [],
   "source": [
    "class NishyBot2:\n",
    "    TOP_N = 3000\n",
    "    SAMENESS_THRESHOLD = 0.5\n",
    "\n",
    "    def find_similars(words):\n",
    "        similars = []\n",
    "        for word in words:\n",
    "            try:\n",
    "                similars.append([x[0] for x in model.most_similar(positive=[word], topn=NishyBot2.TOP_N)])\n",
    "            except KeyError:\n",
    "                similars.append([])\n",
    "                print('No similar words found for', word)\n",
    "        return similars\n",
    "\n",
    "    def count_matches(wordlists, test):\n",
    "        count = 0\n",
    "        for wordlist in wordlists:\n",
    "            if test in wordlist:\n",
    "                count += len(wordlist) - wordlist.index(test)\n",
    "        return count\n",
    "\n",
    "    def __init__(self, good, bad, okay, assassin):\n",
    "        self.good = good\n",
    "        self.bad = bad\n",
    "        self.okay = okay\n",
    "        self.assassin = assassin\n",
    "\n",
    "        self.good_similars = NishyBot2.find_similars(good)\n",
    "        self.bad_similars = NishyBot2.find_similars(bad)\n",
    "        self.okay_similars = NishyBot2.find_similars(okay)\n",
    "        self.assassin_similars = NishyBot2.find_similars(assassin)\n",
    "\n",
    "    def good_matches(self, test):\n",
    "        result = []\n",
    "        for i, similar in enumerate(self.good_similars):\n",
    "            if test in similar:\n",
    "                result.append(self.good[i])\n",
    "        return result\n",
    "\n",
    "    def score(self, test):\n",
    "        good_count = NishyBot2.count_matches(self.good_similars, test)\n",
    "        bad_count = NishyBot2.count_matches(self.bad_similars, test)\n",
    "        okay_count = NishyBot2.count_matches(self.okay_similars, test)\n",
    "        assassin_count = NishyBot2.count_matches(self.assassin_similars, test)\n",
    "\n",
    "        return good_count - bad_count - 0.5 * okay_count - 5 * assassin_count\n",
    "\n",
    "    def score_all(self, wordset):\n",
    "        scores = [(x, self.score(x)) for x in wordset]\n",
    "        scores.sort(key=lambda x: x[1], reverse=True)\n",
    "        scores = dict(scores)\n",
    "        return scores\n",
    "\n",
    "    def score_all_pruned(self, wordset):\n",
    "        scores = self.score_all(wordset)\n",
    "        hints = list(scores.keys())\n",
    "\n",
    "        for i, hint in enumerate(hints):\n",
    "            if len(wn.synsets(hint)) == 0:\n",
    "                if hint in scores:\n",
    "                    scores.pop(hint)\n",
    "            else:\n",
    "                for word in self.good:\n",
    "                    leven = edit_distance(hint, word)\n",
    "                    if leven / len(word) < NishyBot2.SAMENESS_THRESHOLD:\n",
    "                        if hint in scores:\n",
    "                            scores.pop(hint)\n",
    "\n",
    "        return scores\n"
   ],
   "metadata": {
    "collapsed": false,
    "ExecuteTime": {
     "end_time": "2023-12-31T08:53:30.649394800Z",
     "start_time": "2023-12-31T08:53:30.643308500Z"
    }
   },
   "id": "15c8a61806e0e419",
   "execution_count": 54
  },
  {
   "cell_type": "code",
   "outputs": [],
   "source": [
    "def pregame(good, bad, okay, assassin):\n",
    "    good2 = good.copy()\n",
    "    while len(good2) != 0:\n",
    "        n = NishyBot2(good2, bad, okay, assassin)\n",
    "\n",
    "        s = set()\n",
    "        for similar in n.good_similars:\n",
    "            for word in similar:\n",
    "                s.add(word)\n",
    "\n",
    "        sc = n.score_all_pruned(s)\n",
    "\n",
    "        hint = list(sc.keys())[0]\n",
    "        matches = n.good_matches(hint)\n",
    "        print(hint, matches)\n",
    "        good2 = list(filter(lambda x: x not in matches, good2))\n"
   ],
   "metadata": {
    "collapsed": false,
    "ExecuteTime": {
     "end_time": "2023-12-31T08:53:30.657917900Z",
     "start_time": "2023-12-31T08:53:30.645889600Z"
    }
   },
   "id": "d3f7ac99c52a128c",
   "execution_count": 55
  },
  {
   "cell_type": "code",
   "outputs": [],
   "source": [
    "good = 'sack makeup bottle cuckoo cast cone jockey America'.split(' ')\n",
    "bad = 'nut Russia fog break spider bear rip tube plane'.split(' ')\n",
    "okay = 'Christmas pool Beijing trip New York fever peanut'.split(' ')\n",
    "assassin = 'link'.split(' ')\n",
    "\n",
    "good = ['giant', 'thumb', 'nail', 'lock','plane', 'ship','cell','state', 'capital']\n",
    "bad = ['Aztec', 'court','chocolate','space','snow']\n",
    "okay = ['shop','genius','ambulance','button','heart','pupil','vet']\n",
    "assassin = ['microscope']"
   ],
   "metadata": {
    "collapsed": false,
    "ExecuteTime": {
     "end_time": "2023-12-31T08:53:39.459589500Z",
     "start_time": "2023-12-31T08:53:39.443683300Z"
    }
   },
   "id": "e4aee83445073875",
   "execution_count": 57
  },
  {
   "cell_type": "code",
   "outputs": [
    {
     "name": "stdout",
     "output_type": "stream",
     "text": [
      "wrench ['thumb', 'nail', 'lock']\n",
      "city ['state', 'capital']\n",
      "freighter ['plane', 'ship']\n",
      "microchip ['giant', 'cell']\n"
     ]
    }
   ],
   "source": [
    "pregame(good, bad, okay, assassin)"
   ],
   "metadata": {
    "collapsed": false,
    "ExecuteTime": {
     "end_time": "2023-12-31T08:54:15.966551300Z",
     "start_time": "2023-12-31T08:53:41.159346300Z"
    }
   },
   "id": "36c197a22473ed44",
   "execution_count": 58
  },
  {
   "cell_type": "code",
   "outputs": [
    {
     "name": "stdout",
     "output_type": "stream",
     "text": [
      "22261\n"
     ]
    },
    {
     "data": {
      "text/plain": "[('spoiled', ['sack', 'makeup', 'cast'], 5746.0),\n ('actor', ['cast', 'jockey'], 5723.0),\n ('satchel', ['sack', 'bottle'], 5358.0),\n ('bag', ['sack', 'bottle'], 5296.0),\n ('turnout', ['makeup', 'cast'], 5132.0),\n ('bathrobe', ['sack', 'makeup', 'bottle'], 5041.0),\n ('actress', ['cast', 'jockey'], 4993.0),\n ('bags', ['sack', 'bottle'], 4979.5),\n ('lipstick', ['makeup', 'bottle'], 4974.0),\n ('bustier', ['makeup', 'bottle'], 4857.0),\n ('lipsticks', ['makeup', 'bottle'], 4838.5),\n ('Spoilt', ['makeup', 'cast'], 4780.0),\n ('suntan', ['makeup', 'bottle'], 4733.5),\n ('sequin', ['makeup', 'bottle'], 4733.0),\n ('wig', ['makeup', 'bottle'], 4726.0),\n ('duffel', ['sack', 'bottle'], 4718.0),\n ('strongbox', ['sack', 'bottle'], 4697.0),\n ('crate', ['sack', 'bottle'], 4657.0),\n ('typecasting', ['makeup', 'cast'], 4633.0),\n ('impersonator', ['makeup', 'jockey'], 4595.0)]"
     },
     "execution_count": 26,
     "metadata": {},
     "output_type": "execute_result"
    }
   ],
   "source": [
    "n = NishyBot2(good, bad, okay, assassin)\n",
    "\n",
    "s = set()\n",
    "for similar in n.good_similars:\n",
    "    for word in similar:\n",
    "        s.add(word)\n",
    "print(len(s))\n",
    "\n",
    "sc = n.score_all_pruned(s)\n",
    "[(x, n.good_matches(x), sc[x]) for x in list(sc.keys())][:20]"
   ],
   "metadata": {
    "collapsed": false,
    "ExecuteTime": {
     "end_time": "2023-12-31T08:34:41.342004300Z",
     "start_time": "2023-12-31T08:34:22.020453400Z"
    }
   },
   "id": "6e0e101fca9f0ee0",
   "execution_count": 26
  },
  {
   "cell_type": "code",
   "outputs": [
    {
     "data": {
      "text/plain": "0"
     },
     "execution_count": 27,
     "metadata": {},
     "output_type": "execute_result"
    }
   ],
   "source": [
    "NishyBot2.count_matches(n.bad_similars, 'spoiled')"
   ],
   "metadata": {
    "collapsed": false,
    "ExecuteTime": {
     "end_time": "2023-12-31T08:34:47.982622200Z",
     "start_time": "2023-12-31T08:34:47.977405600Z"
    }
   },
   "id": "3e1607b5e74a93b",
   "execution_count": 27
  },
  {
   "cell_type": "code",
   "outputs": [
    {
     "data": {
      "text/plain": "78"
     },
     "execution_count": 36,
     "metadata": {},
     "output_type": "execute_result"
    }
   ],
   "source": [
    "n.good_similars[good.index('cast')].index('spoiled')"
   ],
   "metadata": {
    "collapsed": false,
    "ExecuteTime": {
     "end_time": "2023-12-31T08:37:21.255591500Z",
     "start_time": "2023-12-31T08:37:21.247199Z"
    }
   },
   "id": "b4fcb10ec4c83799",
   "execution_count": 36
  },
  {
   "cell_type": "code",
   "outputs": [],
   "source": [
    "\"\"\"\n",
    "tour: ['concert', 'play', 'trip']\n",
    "wrestle: ['play', 'tag']\n",
    "wrestle: ['play', 'tag']\n",
    "robe: ['dress', 'chair']\n",
    "\n",
    "'claw', ['giant', 'thumb', 'nail', 'lock'])\n",
    "('freighter', ['plane', 'ship'])\n",
    "('republic', ['state', 'capital'])\n",
    "('apoptosis', ['cell'])\n",
    "('protruding', ['giant', 'thumb', 'lock'])\n",
    "\n",
    "[('claw', ['giant', 'thumb', 'nail', 'lock']),\n",
    " ('gunwale', ['thumb', 'nail', 'lock', 'plane', 'ship']),\n",
    " ('protruding', ['giant', 'thumb', 'nail', 'lock']),\n",
    " ('shoelace', ['thumb', 'nail', 'lock']),\n",
    " ('mortise', ['thumb', 'nail', 'lock']),\n",
    " ('bandsaw', ['thumb', 'nail', 'lock']),\n",
    " ('long-handled', ['thumb', 'nail', 'lock']),\n",
    " ('vise', ['thumb', 'nail', 'lock']),\n",
    " ('shackle', ['thumb', 'nail', 'lock']),\n",
    " ('tenon', ['thumb', 'nail', 'lock']),\n",
    " ('ferrule', ['thumb', 'nail', 'lock']),\n",
    " ('pliers', ['thumb', 'nail', 'lock']),\n",
    " ('screws', ['thumb', 'nail', 'lock']),\n",
    " ('wrists', ['thumb', 'nail', 'lock']),\n",
    " ('claws', ['giant', 'thumb', 'nail']),\n",
    " ('halyard', ['thumb', 'nail', 'lock', 'ship']),\n",
    " ('scissors', ['thumb', 'nail', 'lock']),\n",
    " ('dowel', ['thumb', 'nail', 'lock']),\n",
    " ('forepaws', ['giant', 'thumb', 'nail']),\n",
    " ('dowels', ['thumb', 'nail', 'lock'])]\n",
    "\"\"\"\n",
    "\n"
   ],
   "metadata": {
    "collapsed": false
   },
   "id": "964a28d38f18622f"
  }
 ],
 "metadata": {
  "kernelspec": {
   "display_name": "Python 3",
   "language": "python",
   "name": "python3"
  },
  "language_info": {
   "codemirror_mode": {
    "name": "ipython",
    "version": 2
   },
   "file_extension": ".py",
   "mimetype": "text/x-python",
   "name": "python",
   "nbconvert_exporter": "python",
   "pygments_lexer": "ipython2",
   "version": "2.7.6"
  }
 },
 "nbformat": 4,
 "nbformat_minor": 5
}
