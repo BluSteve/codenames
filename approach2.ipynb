{
 "cells": [
  {
   "cell_type": "code",
   "execution_count": 85,
   "id": "initial_id",
   "metadata": {
    "collapsed": true,
    "ExecuteTime": {
     "end_time": "2024-01-04T09:04:31.228393700Z",
     "start_time": "2024-01-04T09:04:30.167193300Z"
    }
   },
   "outputs": [],
   "source": [
    "import gensim\n",
    "from nltk.corpus import wordnet as wn\n",
    "from nltk.tag import pos_tag\n",
    "\n",
    "\n",
    "model = gensim.models.KeyedVectors.load_word2vec_format('gigaword-nocase-26.bin', binary=True)"
   ]
  },
  {
   "cell_type": "code",
   "outputs": [],
   "source": [
    "class NishyBot2:\n",
    "    M = 2.5\n",
    "    TOP_N = int(M * 1000)\n",
    "    SAMENESS_THRESHOLD = 0\n",
    "    ALLOWED_POS = ['JJ', 'JJR', 'JJS', 'NN', 'NNS', 'NNP', 'NNPS', 'VB', 'VBD', 'VBG', 'VBN',\n",
    "                   'VBP', 'VBZ']\n",
    "\n",
    "    def find_similars(words):\n",
    "        similars = []\n",
    "        for word in words:\n",
    "            try:\n",
    "                similars.append(\n",
    "                    {x[0]: i for i, x in enumerate(model.most_similar(positive=[word], topn=NishyBot2.TOP_N))})\n",
    "            except KeyError:\n",
    "                similars.append([])\n",
    "                print('No similar words found for', word)\n",
    "        return similars\n",
    "\n",
    "    def count_matches(wordlists, test):\n",
    "        count = 0\n",
    "        for wordlist in wordlists:\n",
    "            if test in wordlist:\n",
    "                count += NishyBot2.f(wordlist[test])\n",
    "        return count\n",
    "\n",
    "    def f(x):\n",
    "        k = NishyBot2.TOP_N\n",
    "        m = 10 ** NishyBot2.M\n",
    "        return k * (1 / (x + m) - 1 / (k + m)) / (1 / m - 1 / (k + m))\n",
    "\n",
    "    def __init__(self, good, bad, okay, assassin):\n",
    "        self.good = good\n",
    "        self.bad = bad\n",
    "        self.okay = okay\n",
    "        self.assassin = assassin\n",
    "\n",
    "        self.good_similars = NishyBot2.find_similars(good)\n",
    "        self.bad_similars = NishyBot2.find_similars(bad)\n",
    "        self.okay_similars = NishyBot2.find_similars(okay)\n",
    "        self.assassin_similars = NishyBot2.find_similars(assassin)\n",
    "\n",
    "    def good_matches(self, test):\n",
    "        result = []\n",
    "        for i, similar in enumerate(self.good_similars):\n",
    "            if test in similar:\n",
    "                result.append(self.good[i])\n",
    "        return result\n",
    "\n",
    "    def score(self, test):\n",
    "        good_count = NishyBot2.count_matches(self.good_similars, test)\n",
    "        bad_count = NishyBot2.count_matches(self.bad_similars, test)\n",
    "        okay_count = NishyBot2.count_matches(self.okay_similars, test)\n",
    "        assassin_count = NishyBot2.count_matches(self.assassin_similars, test)\n",
    "\n",
    "        return good_count - bad_count - 0.5 * okay_count - 3 * assassin_count  # maybe use a gan to optimize these parameters + TOP_N? not many things to optimize...\n",
    "\n",
    "    def score_all(self, wordset):\n",
    "        scores = [(x, self.score(x)) for x in wordset]\n",
    "        scores.sort(key=lambda x: x[1], reverse=True)\n",
    "        scores = dict(scores)\n",
    "        return scores\n",
    "\n",
    "    def score_all_pruned(self, wordset):\n",
    "        scores = self.score_all(wordset)\n",
    "        hints = list(scores.keys())\n",
    "\n",
    "        for i, hint in enumerate(hints):\n",
    "            if len(wn.synsets(hint)) == 0:  # if it's not a real word\n",
    "                if hint in scores:\n",
    "                    scores.pop(hint)\n",
    "            elif pos_tag([hint])[0][1] not in NishyBot2.ALLOWED_POS: # only allow nouns, adj, and verbs\n",
    "                if hint in scores:\n",
    "                    scores.pop(hint)\n",
    "            else:  # if it's too similar to an existing word\n",
    "                for word in self.good:\n",
    "                    if word in hint or hint in word:\n",
    "                        if hint in scores:\n",
    "                            scores.pop(hint)\n",
    "                            break\n",
    "            \n",
    "\n",
    "        return scores\n"
   ],
   "metadata": {
    "collapsed": false,
    "ExecuteTime": {
     "end_time": "2024-01-04T09:21:55.322460500Z",
     "start_time": "2024-01-04T09:21:55.315189400Z"
    }
   },
   "id": "15c8a61806e0e419",
   "execution_count": 242
  },
  {
   "cell_type": "code",
   "outputs": [],
   "source": [
    "def pregame(good, bad, okay, assassin):\n",
    "    good2 = good.copy()\n",
    "    while len(good2) != 0:\n",
    "        n = NishyBot2(good2, bad, okay, assassin)\n",
    "\n",
    "        s = set()\n",
    "        for similar in n.good_similars:\n",
    "            for word in similar:\n",
    "                s.add(word)\n",
    "\n",
    "        sc = n.score_all_pruned(s)\n",
    "\n",
    "        hint = list(sc.keys())[0]\n",
    "        matches = n.good_matches(hint)\n",
    "        print(hint, matches)\n",
    "        good2 = list(filter(lambda x: x not in matches, good2))\n"
   ],
   "metadata": {
    "collapsed": false,
    "ExecuteTime": {
     "end_time": "2024-01-04T09:21:55.479227700Z",
     "start_time": "2024-01-04T09:21:55.474885300Z"
    }
   },
   "id": "d3f7ac99c52a128c",
   "execution_count": 243
  },
  {
   "cell_type": "code",
   "outputs": [],
   "source": [
    "# good = 'sack makeup bottle cuckoo cast cone jockey America'.lower().split(' ')\n",
    "# bad = 'nut Russia fog break spider bear rip tube plane'.lower().split(' ')\n",
    "# okay = 'Christmas pool Beijing trip nyc fever peanut'.lower().split(' ')\n",
    "# assassin = 'link'.lower().split(' ')\n",
    "\n",
    "good = 'spot,blade,chain,record,magician,jeweler,fiddle,apple'.lower().split(',')\n",
    "bad = 'wonderland,Newton,glacier,pig,spy,lead,mess,duck,stable'.lower().split(',')\n",
    "okay = 'India,millionaire,rainbow,razor,bridge,polo,Notre,Dame'.lower().split(',')\n",
    "assassin = 'ice,cream'.lower().split(',')\n",
    "\n",
    "# good = ['giant', 'thumb', 'nail', 'lock','plane', 'ship','cell','state', 'capital']\n",
    "# bad = ['aztec', 'court','chocolate','space','snow']\n",
    "# okay = ['shop','genius','ambulance','button','heart','pupil','vet']\n",
    "# assassin = ['microscope']\n",
    "\n",
    "# good = 'apple,sister,river,einstein,brazil,garden,china,bench,tip'.split(',')\n",
    "# bad = 'ray,spider,king,arthur,rail,paste,cover,octopus'.split(',')\n",
    "# okay = 'roll,magazine,worm,bucket,golf,vacuum,scientist'.split(',')\n",
    "# assassin = ['code']"
   ],
   "metadata": {
    "collapsed": false,
    "ExecuteTime": {
     "end_time": "2024-01-04T09:22:15.170379200Z",
     "start_time": "2024-01-04T09:22:15.163943600Z"
    }
   },
   "id": "e4aee83445073875",
   "execution_count": 246
  },
  {
   "cell_type": "code",
   "outputs": [
    {
     "name": "stdout",
     "output_type": "stream",
     "text": [
      "rabbit ['wonderland', 'pig', 'duck']\n",
      "decent ['mess', 'stable']\n",
      "espionage ['spy']\n",
      "cambridge ['newton']\n",
      "prompt ['lead']\n",
      "sea-level ['glacier']\n"
     ]
    }
   ],
   "source": [
    "pregame(bad,good,okay, assassin)"
   ],
   "metadata": {
    "collapsed": false,
    "ExecuteTime": {
     "end_time": "2024-01-04T09:22:22.020680200Z",
     "start_time": "2024-01-04T09:22:15.330492800Z"
    }
   },
   "id": "58a06603cade8335",
   "execution_count": 247
  },
  {
   "cell_type": "code",
   "outputs": [],
   "source": [
    "n = NishyBot2(good, bad, okay, assassin)\n",
    "\n",
    "s = set()\n",
    "for similar in n.good_similars:\n",
    "    for word in similar:\n",
    "        s.add(word)\n",
    "print(len(s))\n",
    "\n",
    "sc = n.score_all_pruned(s)\n",
    "[(x, n.good_matches(x), sc[x]) for x in list(sc.keys())][:20]"
   ],
   "metadata": {
    "collapsed": false,
    "ExecuteTime": {
     "start_time": "2024-01-04T09:20:51.598252100Z"
    }
   },
   "id": "6e0e101fca9f0ee0",
   "execution_count": null
  },
  {
   "cell_type": "code",
   "outputs": [
    {
     "data": {
      "text/plain": "set()"
     },
     "execution_count": 158,
     "metadata": {},
     "output_type": "execute_result"
    }
   ],
   "source": [
    "s = set()\n",
    "for similar in n.good_similars:\n",
    "    for word in similar:\n",
    "        s.add(word)\n",
    "\n",
    "set(n.good_similars[1].keys()).intersection(set(n.good_similars[2].keys())).intersection(set(n.good_similars[8].keys()))"
   ],
   "metadata": {
    "collapsed": false,
    "ExecuteTime": {
     "end_time": "2024-01-04T09:13:41.063194700Z",
     "start_time": "2024-01-04T09:13:41.057672500Z"
    }
   },
   "id": "b5e4859b13ae9d96",
   "execution_count": 158
  },
  {
   "cell_type": "code",
   "outputs": [
    {
     "name": "stdout",
     "output_type": "stream",
     "text": [
      "100\n",
      "india ['brazil', 'china']\n",
      "tributary ['river']\n",
      "dugout ['bench']\n",
      "lawn ['garden']\n",
      "corner ['tip']\n",
      "brother ['sister']\n",
      "relativity ['einstein']\n",
      "ipod ['apple']\n",
      "\n",
      "500\n",
      "india ['brazil', 'china']\n",
      "substitute ['bench', 'tip']\n",
      "pond ['river', 'garden']\n",
      "sibling ['sister']\n",
      "relativity ['einstein']\n",
      "ipod ['apple']\n",
      "\n",
      "1000\n",
      "india ['brazil', 'china']\n",
      "substitute ['bench', 'tip']\n",
      "terrace ['river', 'garden']\n",
      "sibling ['sister']\n",
      "relativity ['einstein']\n",
      "ipod ['apple']\n",
      "\n",
      "2000\n",
      "india ['brazil', 'china']\n",
      "substitute ['bench', 'tip']\n",
      "lake ['river', 'garden']\n",
      "relativity ['einstein']\n",
      "sibling ['sister']\n",
      "ipod ['apple']\n",
      "\n",
      "3000\n",
      "india ['brazil', 'china']\n",
      "substitute ['bench', 'tip']\n",
      "lake ['river', 'garden']\n",
      "relativity ['einstein']\n",
      "sibling ['sister']\n",
      "ipod ['apple']\n",
      "\n",
      "5000\n",
      "india ['brazil', 'china']\n",
      "substitute ['bench', 'tip']\n",
      "terrace ['river', 'garden']\n",
      "freud ['einstein']\n",
      "sibling ['sister']\n",
      "ipod ['apple']\n"
     ]
    }
   ],
   "source": [
    "ns = [100, 500, 1000, 2000, 3000, 5000]\n",
    "for n in ns:\n",
    "    print(n)\n",
    "    NishyBot2.TOP_N = n\n",
    "    pregame(good, bad, okay, assassin)\n",
    "    print()"
   ],
   "metadata": {
    "collapsed": false,
    "ExecuteTime": {
     "end_time": "2024-01-04T09:14:09.984852400Z",
     "start_time": "2024-01-04T09:13:41.062191900Z"
    }
   },
   "id": "36c197a22473ed44",
   "execution_count": 159
  },
  {
   "cell_type": "code",
   "outputs": [
    {
     "data": {
      "text/plain": "0"
     },
     "execution_count": 224,
     "metadata": {},
     "output_type": "execute_result"
    }
   ],
   "source": [
    "NishyBot2.count_matches(n.bad_similars, 'spoiled')"
   ],
   "metadata": {
    "collapsed": false
   },
   "id": "3e1607b5e74a93b",
   "execution_count": 224
  },
  {
   "cell_type": "code",
   "outputs": [
    {
     "data": {
      "text/plain": "1"
     },
     "execution_count": 227,
     "metadata": {},
     "output_type": "execute_result"
    }
   ],
   "source": [
    "n.good_similars[good.index('cone')].index('encase')"
   ],
   "metadata": {
    "collapsed": false,
    "ExecuteTime": {
     "end_time": "2023-12-31T10:01:53.697365Z",
     "start_time": "2023-12-31T10:01:53.691761600Z"
    }
   },
   "id": "b4fcb10ec4c83799",
   "execution_count": 227
  },
  {
   "cell_type": "code",
   "outputs": [
    {
     "data": {
      "text/plain": "[('possibly', 'RB')]"
     },
     "execution_count": 129,
     "metadata": {},
     "output_type": "execute_result"
    }
   ],
   "source": [
    "from nltk.tag import pos_tag\n",
    "\n",
    "pos_tag(['possibly'\n",
    "])"
   ],
   "metadata": {
    "collapsed": false,
    "ExecuteTime": {
     "end_time": "2024-01-04T09:10:15.452136500Z",
     "start_time": "2024-01-04T09:10:15.446220100Z"
    }
   },
   "id": "c774ccd1ddd24926",
   "execution_count": 129
  },
  {
   "cell_type": "code",
   "outputs": [],
   "source": [],
   "metadata": {
    "collapsed": false
   },
   "id": "f1e2d0c43c9fc083"
  }
 ],
 "metadata": {
  "kernelspec": {
   "display_name": "Python 3",
   "language": "python",
   "name": "python3"
  },
  "language_info": {
   "codemirror_mode": {
    "name": "ipython",
    "version": 2
   },
   "file_extension": ".py",
   "mimetype": "text/x-python",
   "name": "python",
   "nbconvert_exporter": "python",
   "pygments_lexer": "ipython2",
   "version": "2.7.6"
  }
 },
 "nbformat": 4,
 "nbformat_minor": 5
}
