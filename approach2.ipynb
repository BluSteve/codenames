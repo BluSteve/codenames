{
 "cells": [
  {
   "cell_type": "code",
   "execution_count": 192,
   "id": "initial_id",
   "metadata": {
    "collapsed": true,
    "ExecuteTime": {
     "end_time": "2023-12-31T08:04:01.659882900Z",
     "start_time": "2023-12-31T08:04:00.173313100Z"
    }
   },
   "outputs": [],
   "source": [
    "import gensim\n",
    "from nltk.corpus import wordnet as wn\n",
    "from nltk.metrics.distance import edit_distance\n",
    "\n",
    "# word2vec_sample = str(find('models/word2vec_sample/pruned.word2vec.txt'))\n",
    "model = gensim.models.KeyedVectors.load_word2vec_format('model.bin', binary=True)"
   ]
  },
  {
   "cell_type": "code",
   "outputs": [],
   "source": [
    "good = ['giant', 'thumb', 'nail', 'lock','plane', 'ship','cell','state', 'capital']\n",
    "bad = ['Aztec', 'court','chocolate','space','snow']\n",
    "okay = ['shop','genius','ambulance','button','heart','pupil','vet']\n",
    "assassin = ['microscope']"
   ],
   "metadata": {
    "collapsed": false,
    "ExecuteTime": {
     "end_time": "2023-12-31T08:04:01.667452200Z",
     "start_time": "2023-12-31T08:04:01.660880900Z"
    }
   },
   "id": "e4aee83445073875",
   "execution_count": 193
  },
  {
   "cell_type": "code",
   "outputs": [],
   "source": [
    "class NishyBot2:\n",
    "    TOP_N = 3000\n",
    "    SAMENESS_THRESHOLD = 0.5\n",
    "\n",
    "    def find_similars(words):\n",
    "        similars = []\n",
    "        for word in words:\n",
    "            try:\n",
    "                similars.append([x[0] for x in model.most_similar(positive=[word], topn=NishyBot2.TOP_N)])\n",
    "            except KeyError:\n",
    "                similars.append([])\n",
    "                print('No similar words found for', word)\n",
    "        return similars\n",
    "\n",
    "    def count_matches(wordlists, test):\n",
    "        count = 0\n",
    "        for wordlist in wordlists:\n",
    "            if test in wordlist:\n",
    "                count += len(wordlist) - wordlist.index(test)\n",
    "        return count\n",
    "\n",
    "    def __init__(self, good, bad, okay, assassin):\n",
    "        self.good = good\n",
    "        self.bad = bad\n",
    "        self.okay = okay\n",
    "        self.assassin = assassin\n",
    "\n",
    "        self.good_similars = NishyBot2.find_similars(good)\n",
    "        self.bad_similars = NishyBot2.find_similars(bad)\n",
    "        self.okay_similars = NishyBot2.find_similars(okay)\n",
    "        self.assassin_similars = NishyBot2.find_similars(assassin)\n",
    "\n",
    "    def good_matches(self, test):\n",
    "        result = []\n",
    "        for i, similar in enumerate(self.good_similars):\n",
    "            if test in similar:\n",
    "                result.append(self.good[i])\n",
    "        return result\n",
    "\n",
    "    def score(self, test):\n",
    "        good_count = NishyBot2.count_matches(self.good_similars, test)\n",
    "        bad_count = NishyBot2.count_matches(self.bad_similars, test)\n",
    "        okay_count = NishyBot2.count_matches(self.okay_similars, test)\n",
    "        assassin_count = NishyBot2.count_matches(self.assassin_similars, test)\n",
    "\n",
    "        return 2 * good_count - 2 * bad_count - 1 * okay_count - 5 * assassin_count\n",
    "\n",
    "    def score_all(self, wordset):\n",
    "        scores = [(x, n.score(x)) for x in wordset]\n",
    "        scores.sort(key=lambda x: x[1], reverse=True)\n",
    "        scores = dict(scores)\n",
    "        return scores\n",
    "\n",
    "    def score_all_pruned(self, wordset):\n",
    "        scores = self.score_all(wordset)\n",
    "        hints = list(scores.keys())\n",
    "\n",
    "        for i, hint in enumerate(hints):\n",
    "            if len(wn.synsets(hint)) == 0:\n",
    "                if hint in scores:\n",
    "                    scores.pop(hint)\n",
    "            else:\n",
    "                for word in n.good:\n",
    "                    leven = edit_distance(hint, word)\n",
    "                    if leven / len(word) < NishyBot2.SAMENESS_THRESHOLD:\n",
    "                        if hint in scores:\n",
    "                            scores.pop(hint)\n",
    "\n",
    "        return scores"
   ],
   "metadata": {
    "collapsed": false,
    "ExecuteTime": {
     "end_time": "2023-12-31T08:04:01.674460800Z",
     "start_time": "2023-12-31T08:04:01.669454200Z"
    }
   },
   "id": "15c8a61806e0e419",
   "execution_count": 194
  },
  {
   "cell_type": "code",
   "outputs": [],
   "source": [
    "n = NishyBot2(good, bad, okay, assassin)"
   ],
   "metadata": {
    "collapsed": false,
    "ExecuteTime": {
     "end_time": "2023-12-31T08:04:02.244513900Z",
     "start_time": "2023-12-31T08:04:01.674460800Z"
    }
   },
   "id": "6e0e101fca9f0ee0",
   "execution_count": 195
  },
  {
   "cell_type": "code",
   "outputs": [
    {
     "data": {
      "text/plain": "23139"
     },
     "execution_count": 196,
     "metadata": {},
     "output_type": "execute_result"
    }
   ],
   "source": [
    "s = set()\n",
    "for similar in n.good_similars:\n",
    "    for word in similar:\n",
    "        s.add(word)\n",
    "len(s)"
   ],
   "metadata": {
    "collapsed": false,
    "ExecuteTime": {
     "end_time": "2023-12-31T08:04:02.268339400Z",
     "start_time": "2023-12-31T08:04:02.256802100Z"
    }
   },
   "id": "197b7794e4f26fb2",
   "execution_count": 196
  },
  {
   "cell_type": "code",
   "outputs": [
    {
     "data": {
      "text/plain": "{'claw': 19728,\n 'gunwale': 17961,\n 'protruding': 17542,\n 'mortise': 16796,\n 'windlass': 16342,\n 'shoelace': 16085,\n 'bandsaw': 16040,\n 'tenon': 15740,\n 'shackle': 15618,\n 'ferrule': 15562,\n 'pliers': 15507,\n 'long-handled': 15464,\n 'claws': 15218,\n 'screws': 15125,\n 'vise': 15076,\n 'scissors': 14964,\n 'dowel': 14912,\n 'wrists': 14757,\n 'dowels': 14737,\n 'gouges': 14728,\n 'eyeballs': 14628,\n 'wrench': 14531,\n 'neck': 14501,\n 'screw': 14432,\n 'knobbed': 14406,\n 'strap': 14403,\n 'nicks': 14338,\n 'retractor': 14318,\n 'collet': 14304,\n 'reamer': 14270,\n 'halyard': 14253,\n 'dangles': 14212,\n 'tacks': 14104,\n 'rivet': 14093,\n 'crimping': 14072,\n 'jaws': 14002,\n 'unscrewing': 13971,\n 'gloved': 13966,\n 'cleat': 13963,\n 'tucking': 13950,\n 'snips': 13948,\n 'rope': 13900,\n 'forefinger': 13820,\n 'ankles': 13728,\n 'toe': 13706,\n 'grommets': 13704,\n 'mallet': 13673,\n 'unscrewed': 13614,\n 'jabbed': 13606,\n 'clamps': 13572,\n 'hairbrush': 13565,\n 'forestay': 13517,\n 'eyelet': 13504,\n 'manacles': 13460,\n 'fingertip': 13458,\n 'dildo': 13436,\n 'shank': 13434,\n 'forepaws': 13392,\n 'starboard': 13392,\n 'fingers': 13382,\n 'hammers': 13369,\n 'protrusion': 13365,\n 'quill': 13336,\n 'hollow': 13294,\n 'paw': 13294,\n 'handcuff': 13286,\n 'fastens': 13224,\n 'penknife': 13213,\n 'hammer': 13145,\n 'gouge': 13138,\n 'armpit': 13092,\n 'bow': 13028,\n 'instep': 13018,\n 'hyperextension': 12992,\n 'carabiner': 12968,\n 'screwdriver': 12958,\n 'gusset': 12897,\n 'armpits': 12893,\n 'dislodges': 12873,\n 'earlobe': 12864,\n 'grip': 12864,\n 'scissor': 12832,\n 'crowbar': 12827,\n 'studs': 12798,\n 'straps': 12790,\n 'sander': 12790,\n 'manubrium': 12730,\n 'fastened': 12700,\n 'crimped': 12679,\n 'drawstring': 12666,\n 'clew': 12663,\n 'stick': 12641,\n 'swaging': 12602,\n 'doorjamb': 12562,\n 'footrest': 12534,\n 'wrenches': 12529,\n 'bevelled': 12528,\n 'forearm': 12517,\n 'butt': 12427,\n 'rod': 12400,\n 'gullet': 12384,\n 'pin': 12331,\n 'hinges': 12314,\n 'cinch': 12283,\n 'floorboard': 12260,\n 'wrist': 12244,\n 'lid': 12243,\n 'fastener': 12222,\n 'eyelets': 12190,\n 'hand': 12185,\n 'pinching': 12183,\n 'tentacle': 12171,\n 'doorknob': 12168,\n 'knife': 12165,\n 'crimp': 12130,\n 'buttonholes': 12125,\n 'pleat': 12102,\n 'tusk': 12094,\n 'mallets': 12057,\n 'hole': 12053,\n 'noseband': 12051,\n 'pried': 12038,\n 'notch': 12030,\n 'spanner': 12023,\n 'nose': 12016,\n 'pinkie': 12005,\n 'luff': 11990,\n 'propellors': 11975,\n 'pins': 11919,\n 'fingernails': 11882,\n 'chocks': 11877,\n 'nipple': 11873,\n 'boat': 11857,\n 'workpiece': 11847,\n 'mandrel': 11837,\n 'freighter': 11820,\n 'avulsion': 11800,\n 'ramrod': 11754,\n 'gimbal': 11745,\n 'scraper': 11717,\n 'spring-loaded': 11665,\n 'splint': 11650,\n 'malleus': 11639,\n 'waistband': 11598,\n 'unscrew': 11583,\n 'sledgehammers': 11582,\n 'pinky': 11574,\n 'towline': 11566,\n 'truncheon': 11552,\n 'joints': 11542,\n 'comb': 11538,\n 'chuck': 11535,\n 'fastening': 11531,\n 'squeezing': 11502,\n 'ear': 11497,\n 'fingernail': 11472,\n 'sheath': 11432,\n 'protruded': 11392,\n 'hindmost': 11380,\n 'barge': 11380,\n 'chamfer': 11368,\n 'sling': 11326,\n 'sledgehammer': 11326,\n 'pronator': 11300,\n 'forearms': 11268,\n 'forefoot': 11266,\n 'stanchion': 11261,\n 'fishhooks': 11216,\n 'blowtorch': 11199,\n 'twig': 11196,\n 'boning': 11167,\n 'bedstead': 11115,\n 'fixings': 11108,\n 'forehead': 11105,\n 'button': 11104,\n 'pads': 11094,\n 'barges': 11066,\n 'depressor': 11042,\n 'tensing': 11034,\n 'twisting': 11032,\n 'toes': 11022,\n 'razor': 11020,\n 'everted': 11012,\n 'hawsers': 11012,\n 'wriggling': 11006,\n 'vagina': 10988,\n 'guardrail': 10986,\n 'paws': 10976,\n 'encases': 10976,\n 'knuckles': 10964,\n 'lip': 10952,\n 'waist': 10941,\n 'rudder': 10935,\n 'cupping': 10924,\n 'creases': 10898,\n 'teat': 10895,\n 'rubbing': 10892,\n 'phalangeal': 10880,\n 'sutured': 10856,\n 'republic': 10852,\n 'squeeze': 10838,\n 'finger': 10816,\n 'bead': 10799,\n 'caulk': 10798,\n 'shins': 10796,\n 'eyebrow': 10784,\n 'eyelid': 10778,\n 'epidermis': 10766,\n 'clenched': 10765,\n 'flowerpot': 10751,\n 'notches': 10748,\n 'thighs': 10724,\n 'thumbtacks': 10724,\n 'awl': 10716,\n 'prying': 10714,\n 'eversion': 10708,\n 'fastenings': 10676,\n 'yanks': 10674,\n 'propeller': 10674,\n 'rubbed': 10666,\n 'windpipe': 10662,\n 'dimple': 10661,\n 'chisel': 10656,\n 'immobilising': 10651,\n 'stapler': 10627,\n 'hacksaw': 10611,\n 'scratches': 10592,\n 'sinew': 10590,\n 'maul': 10590,\n 'mitts': 10577,\n 'scrotum': 10562,\n 'plucking': 10541,\n 'earlobes': 10502,\n 'nostril': 10495,\n 'regional': 10494,\n 'loosens': 10490,\n 'eyelashes': 10488,\n 'talon': 10482,\n 'teeth': 10464,\n 'insole': 10427,\n 'shovel': 10424,\n 'knees': 10418,\n 'noses': 10404,\n 'jackhammer': 10388,\n 'incision': 10358,\n 'phalanges': 10310,\n 'bone': 10292,\n 'chins': 10286,\n 'pulling': 10278,\n 'squeezes': 10250,\n 'scaphoid': 10249,\n 'sideslip': 10248,\n 'patella': 10241,\n 'territory': 10236,\n 'crutch': 10184,\n 'gooseneck': 10172,\n 'forelegs': 10166,\n 'sesamoid': 10157,\n 'hairline': 10154,\n 'fulcrum': 10142,\n 'graving': 10132,\n 'rubs': 10129,\n 'glove': 10125,\n 'eyelids': 10114,\n 'varus': 10112,\n 'torso': 10105,\n 'calcaneus': 10058,\n 'buttock': 10047,\n 'pincers': 10038,\n 'thumbprint': 10033,\n 'plunger': 10031,\n 'jaw': 10031,\n 'acromion': 10016,\n 'femurs': 10006,\n 'slitting': 10000,\n 'toenails': 9990,\n 'chin': 9988,\n 'suturing': 9974,\n 'bowstring': 9970,\n 'harpoon': 9956,\n 'anvil': 9932,\n 'spatula': 9932,\n 'elbows': 9916,\n 'caulking': 9908,\n 'staplers': 9889,\n 'spear': 9882,\n 'bushing': 9879,\n 'tooth': 9857,\n 'principality': 9840,\n 'pricking': 9832,\n 'ricochet': 9824,\n 'buttocks': 9821,\n 'pegs': 9811,\n 'insides': 9810,\n 'jamb': 9794,\n 'actuates': 9789,\n 'supination': 9782,\n 'springy': 9776,\n 'davit': 9770,\n 'handwheel': 9758,\n 'cleaver': 9750,\n 'velcro': 9745,\n 'sliding': 9741,\n 'angulation': 9738,\n 'pinched': 9736,\n 'genitals': 9724,\n 'crowbars': 9724,\n 'joist': 9710,\n 'sidewall': 9693,\n 'forefeet': 9692,\n 'astern': 9690,\n 'scraping': 9684,\n 'fireroom': 9678,\n 'soles': 9648,\n 'cheeks': 9628,\n 'fingertips': 9624,\n 'airship': 9623,\n 'droopy': 9622,\n 'bend': 9616,\n 'penis': 9578,\n 'clamping': 9559,\n 'beak': 9552,\n 'thimble': 9521,\n 'blades': 9516,\n 'oakum': 9516,\n 'pectorals': 9514,\n 'cheek': 9507,\n 'stow': 9502,\n 'deformity': 9502,\n 'spatulas': 9501,\n 'city': 9492,\n 'wedging': 9492,\n 'protrude': 9488,\n 'zeppelin': 9477,\n 'dislocate': 9472,\n 'towboats': 9470,\n 'splints': 9450,\n 'bandage': 9418,\n 'scratching': 9410,\n 'jawbone': 9393,\n 'clenching': 9389,\n 'slipway': 9370,\n 'toenail': 9358,\n 'hallux': 9352,\n 'dockyard': 9310,\n 'fetlock': 9306,\n 'sticks': 9294,\n 'scalene': 9284,\n 'buckle': 9260,\n 'peg': 9259,\n 'flexing': 9258,\n 'perpendicularly': 9256,\n 'acetabular': 9250,\n 'muff': 9247,\n 'gunwales': 9246,\n 'fretting': 9244,\n 'gangplank': 9226,\n 'pulleys': 9213,\n 'screwing': 9210,\n 'blunt': 9202,\n 'hook-shaped': 9200,\n 'uvula': 9196,\n 'padlock': 9172,\n 'hawser': 9166,\n 'birdcage': 9163,\n 'foredeck': 9160,\n 'astragalus': 9160,\n 'soundbox': 9139,\n 'crewmen': 9138,\n 'propellor': 9134,\n 'tines': 9113,\n 'pilothouse': 9084,\n 'bolts': 9067,\n 'aponeurosis': 9062,\n 'orifice': 9053,\n 'hook': 9052,\n 'slithering': 9052,\n 'plungers': 9051,\n 'turnbuckles': 9049,\n 'rawhide': 9048,\n 'flexes': 9036,\n 'innards': 8999,\n 'stinger': 8996,\n 'ploughshare': 8982,\n 'flipper': 8979,\n 'penises': 8970,\n 'aboard': 8958,\n 'pastern': 8957,\n 'knuckle': 8954,\n 'stitches': 8926,\n 'blimp': 8924,\n 'ingrown': 8914,\n 'nelson': 8912,\n 'insoles': 8881,\n 'fasteners': 8862,\n 'frill': 8854,\n 'slipways': 8834,\n 'obturator': 8826,\n 'anus': 8825,\n 'carpus': 8822,\n 'protrudes': 8822,\n 'protrusible': 8820,\n 'breakage': 8818,\n 'tucks': 8800,\n 'sticking': 8796,\n 'centerboard': 8796,\n 'darning': 8789,\n 'snugly': 8783,\n 'treasuries': 8782,\n 'drawer': 8776,\n 'gingiva': 8771,\n 'chela': 8766,\n 'hilt': 8766,\n 'dentures': 8764,\n 'exploding': 8749,\n 'bruise': 8747,\n 'metatarsal': 8742,\n 'labia': 8738,\n 'ungual': 8728,\n 'turd': 8727,\n 'barbells': 8721,\n 'lever': 8716,\n 'oropharynx': 8711,\n 'brazed': 8708,\n 'gyrocompass': 8704,\n 'bent': 8702,\n 'scabbard': 8686,\n 'mainspring': 8686,\n 'groove': 8656,\n 'gashed': 8655,\n 'knob': 8653,\n 'eyebrows': 8650,\n 'davits': 8640,\n 'headlock': 8639,\n 'laceration': 8631,\n 'serrations': 8630,\n 'slicer': 8627,\n 'region': 8624,\n 'seaport': 8612,\n 'keratinized': 8612,\n 'gashes': 8605,\n 'oar': 8602,\n 'scalp': 8598,\n 'dorsiflexion': 8598,\n 'quay': 8596,\n 'skull': 8595,\n 'cuffs': 8594,\n 'haft': 8592,\n 'crouches': 8579,\n 'thigh': 8573,\n 'rivets': 8570,\n 'bones': 8568,\n 'metacarpal': 8566,\n 'pawl': 8566,\n 'pivots': 8545,\n 'olecranon': 8542,\n 'sideways': 8537,\n 'province': 8516,\n 'floatplanes': 8516,\n 'belaying': 8509,\n 'boarded': 8506,\n 'floorboards': 8492,\n 'sharpened': 8484,\n 'clavicle': 8481,\n 'leech': 8464,\n 'encase': 8460,\n 'hinge': 8448,\n 'vomer': 8418,\n 'glued': 8416,\n 'prepuce': 8408,\n 'cofferdams': 8406,\n 'axilla': 8401,\n 'contracture': 8395,\n 'follicle': 8392,\n 'calcaneal': 8386,\n 'arm': 8374,\n 'crank': 8372,\n 'dredger': 8368,\n 'rub': 8358,\n 'palm': 8352,\n 'provinces': 8348,\n 'fangs': 8340,\n 'hydroplanes': 8336,\n 'anklet': 8329,\n 'saucer': 8329,\n 'fang-like': 8314,\n 'cheekbones': 8302,\n 'grindstone': 8298,\n 'puncturing': 8291,\n 'sharpeners': 8291,\n 'extensors': 8281,\n 'carrier': 8280,\n 'forelock': 8275,\n 'smudged': 8266,\n 'flexors': 8266,\n 'straightening': 8258,\n 'abdomen': 8254,\n 'eyelash': 8252,\n 'indentations': 8238,\n 'tuberosity': 8218,\n 'chest': 8216,\n 'bolt': 8215,\n 'aircraft': 8215,\n 'welt': 8214,\n 'crossbeam': 8214,\n 'coxa': 8212,\n 'banister': 8207,\n 'handgrip': 8206,\n 'pry': 8196,\n 'vessel': 8194,\n 'cocking': 8192,\n 'kamikaze': 8182,\n 'clinker-built': 8178,\n 'capsized': 8176,\n 'deaden': 8176,\n 'smudge': 8175,\n 'pulley': 8160,\n 'fanged': 8144,\n 'landing': 8142,\n 'barbell': 8134,\n 'breastbone': 8133,\n 'pivoting': 8132,\n 'dumbbells': 8132,\n 'levers': 8122,\n 'thimbles': 8120,\n 'sear': 8108,\n 'shoulders': 8102,\n 'seaplane': 8094,\n 'navicular': 8091,\n 'clasped': 8084,\n 'scuffed': 8079,\n 'sore': 8068,\n 'hooking': 8058,\n 'shinbone': 8050,\n 'blowgun': 8046,\n 'tappet': 8040,\n 'skyhook': 8040,\n 'paddlewheel': 8036,\n 'fasten': 8012,\n 'abrasions': 8010,\n 'blister': 8010,\n 'slips': 8008,\n 'cotter': 8008,\n 'alveolus': 8005,\n 'icicle': 8004,\n 'lath': 8004,\n 'seaplanes': 8002,\n 'skiff': 7994,\n 'fist': 7991,\n 'outsole': 7983,\n 'splinting': 7976,\n 'flap': 7976,\n 'peeling': 7968,\n 'keys': 7963,\n 'unload': 7962,\n 'symphysis': 7962,\n 'ulna': 7958,\n 'webbing': 7958,\n 'mooring': 7956,\n 'detent': 7949,\n 'cargo': 7949,\n 'drydock': 7942,\n 'threaded': 7935,\n 'sandpaper': 7932,\n 'ears': 7926,\n 'curl': 7920,\n 'rectum': 7913,\n 'narrowboat': 7910,\n 'incisor': 7908,\n 'acetabulum': 7902,\n 'bilge': 7902,\n 'moorings': 7902,\n 'chelae': 7900,\n 'prick': 7895,\n 'pontoons': 7892,\n 'serrated': 7890,\n 'wooden': 7878,\n 'socket': 7877,\n 'provincial': 7876,\n 'fork': 7869,\n 'scratched': 7864,\n 'squinting': 7864,\n 'adze': 7858,\n 'shears': 7854,\n 'Mandible': 7836,\n 'ratchet': 7835,\n 'bludgeon': 7834,\n 'phalanx': 7830,\n 'paddle': 7822,\n 'needles': 7820,\n 'bevel': 7819,\n 'abaft': 7806,\n 'freighters': 7802,\n 'kneecap': 7802,\n 'cartilages': 7798,\n 'catgut': 7798,\n 'bellows': 7795,\n 'limbs': 7794,\n 'cocked': 7792,\n 'unknot': 7786,\n 'ketches': 7782,\n 'faceplate': 7765,\n 'denture': 7762,\n 'curled': 7750,\n 'abutment': 7750,\n 'outlays': 7750,\n 'lips': 7746,\n 'territories': 7738,\n 'mesial': 7728,\n 'legs': 7716,\n 'drumstick': 7705,\n 'toggle': 7703,\n 'Mandibular': 7700,\n 'nipples': 7700,\n 'gimbals': 7700,\n 'periscope': 7698,\n 'stump': 7696,\n 'torpedo': 7692,\n 'jowls': 7686,\n 'pitot': 7684,\n 'screwed': 7679,\n 'valgus': 7678,\n 'frontier': 7672,\n 'tightness': 7670,\n 'expenditure': 7666,\n 'biting': 7662,\n 'malfunctioned': 7662,\n 'utensil': 7654,\n 'spaceship': 7653,\n 'prongs': 7652,\n 'unloaded': 7648,\n 'sharpener': 7646,\n 'breasts': 7644,\n 'governments': 7642,\n 'comb-like': 7638,\n 'pestle': 7636,\n 'bite': 7634,\n 'bodice': 7634,\n 'gnawed': 7633,\n 'mandible': 7630,\n 'occlude': 7628,\n 'pivot': 7624,\n 'clubfoot': 7616,\n 'trowel': 7602,\n 'purl': 7601,\n 'dermis': 7601,\n 'centerline': 7598,\n 'axe': 7598,\n 'contraption': 7597,\n 'tendons': 7593,\n 'fishhook': 7588,\n 'aileron': 7580,\n 'osteotomy': 7578,\n 'dirigible': 7577,\n 'dab': 7574,\n 'floating': 7572,\n 'skin': 7571,\n 'metacarpals': 7568,\n 'lacerated': 7565,\n 'pull': 7558,\n 'shaft': 7554,\n 'fang': 7548,\n 'incisions': 7542,\n 'grout': 7540,\n 'territorial': 7532,\n 'knobs': 7515,\n 'ribs': 7512,\n 'stiffeners': 7510,\n 'baulk': 7505,\n 'kickstand': 7501,\n 'handcuffs': 7499,\n 'jetty': 7492,\n 'gloves': 7491,\n 'sampan': 7488,\n 'femur': 7477,\n 'rollers': 7476,\n 'tire': 7474,\n 'holster': 7474,\n 'cigar-shaped': 7466,\n 'cupped': 7454,\n 'hips': 7453,\n 'tibia': 7451,\n 'femoral': 7447,\n 'Graving': 7432,\n 'rammer': 7430,\n 'locking': 7429,\n 'overarm': 7420,\n 'cofferdam': 7410,\n 'dragging': 7404,\n 'chipped': 7392,\n 'forceps': 7383,\n 'lugged': 7378,\n 'crewman': 7376,\n 'breakwater': 7366,\n 'tow': 7365,\n 'scar': 7363,\n 'cutlass': 7350,\n 'dredgers': 7338,\n 'jabbing': 7335,\n 'tubercle': 7332,\n 'stitched': 7332,\n 'pouting': 7328,\n 'spurting': 7325,\n 'articular': 7312,\n 'biceps': 7311,\n 'lids': 7307,\n 'varix': 7306,\n 'derringer': 7301,\n 'testicles': 7296,\n 'protuberance': 7280,\n 'inkwell': 7274,\n 'straightens': 7262,\n 'extruding': 7260,\n 'strapping': 7256,\n 'thumbing': 7256,\n 'nightstick': 7254,\n 'tampon': 7253,\n 'thong': 7250,\n 'mucous': 7250,\n 'perineum': 7250,\n 'docks': 7248,\n 'nosewheel': 7246,\n 'seigniorage': 7240,\n 'distal': 7232,\n 'crosse': 7228,\n 'thongs': 7224,\n 'keypad': 7224,\n 'opposable': 7218,\n 'harpooned': 7208,\n 'actuation': 7207,\n 'hobble': 7202,\n 'winders': 7198,\n 'tilt': 7198,\n 'toggles': 7195,\n 'cage': 7194,\n 'underneath': 7190,\n 'rammed': 7186,\n 'dactyl': 7178,\n 'sovereign': 7176,\n 'wharfs': 7172,\n 'ethmoid': 7170,\n 'flaming': 7168,\n 'latch': 7164,\n 'flatten': 7156,\n 'swinging': 7153,\n 'hull': 7142,\n 'detonate': 7138,\n 'glue': 7120,\n 'pronation': 7118,\n 'spine': 7113,\n 'stapling': 7110,\n 'asdic': 7100,\n 'submarine': 7092,\n 'hurtled': 7088,\n 'grooved': 7086,\n 'hypoglossal': 7077,\n 'buttonhole': 7075,\n 'dropper': 7071,\n 'flight': 7068,\n 'ratcheting': 7064,\n 'tiptoe': 7057,\n 'fingering': 7042,\n 'immobilise': 7037,\n 'occlusive': 7032,\n 'spinous': 7030,\n 'shanks': 7024,\n 'mauls': 7020,\n 'trapezius': 7018,\n 'laths': 7016,\n 'eyeless': 7012,\n 'breechblock': 6997,\n 'wheelhouse': 6996,\n 'tongue': 6988,\n 'encasing': 6988,\n 'burin': 6982,\n 'kingdom': 6978,\n 'navel': 6976,\n 'chisel-like': 6976,\n 'wharf': 6974,\n 'Ankle': 6974,\n 'sternocleidomastoid': 6971,\n 'toothpick': 6964,\n 'fibrocartilage': 6962,\n 'footstool': 6960,\n 'stowed': 6944,\n 'pistons': 6943,\n 'splayed': 6942,\n 'wand': 6939,\n 'arytenoid': 6938,\n 'writhing': 6938,\n 'sebaceous': 6936,\n 'mouth': 6935,\n 'whaleboat': 6930,\n 'trapezium': 6930,\n 'yanking': 6918,\n 'pleats': 6905,\n 'dredge': 6900,\n 'sinews': 6899,\n 'pricked': 6890,\n 'scrape': 6890,\n 'wheel': 6890,\n 'flexed': 6884,\n 'scaly': 6882,\n 'fibula': 6878,\n 'pluck': 6867,\n 'narrowboats': 6862,\n 'downstroke': 6860,\n 'cuticular': 6856,\n 'pubis': 6848,\n 'tarsal': 6842,\n 'parrying': 6831,\n 'wick': 6830,\n 'masseter': 6830,\n 'ampulla': 6828,\n 'winched': 6821,\n 'syndactyly': 6820,\n 'polity': 6818,\n 'loosen': 6816,\n 'crotch': 6815,\n 'lugs': 6812,\n 'swiping': 6811,\n 'Grabbing': 6811,\n 'Territory': 6810,\n 'singed': 6796,\n 'caliper': 6790,\n 'subtends': 6788,\n 'dirk': 6786,\n 'paintbrush': 6777,\n 'Hydrus': 6776,\n 'treasury': 6774,\n 'ruler': 6774,\n 'brushes': 6770,\n 'bullet': 6754,\n 'doorknobs': 6748,\n 'pontoon': 6742,\n 'incus': 6742,\n 'steerer': 6739,\n 'fix': 6734,\n 'sternal': 6734,\n 'flat-bottomed': 6732,\n 'corns': 6726,\n 'pull-offs': 6725,\n 'sinking': 6722,\n 'trochanter': 6720,\n 'Trepang': 6716,\n 'joystick': 6715,\n 'towboat': 6710,\n 'prehensile': 6710,\n 'proximal': 6708,\n 'fingerless': 6696,\n 'keyhole': 6686,\n 'chisels': 6684,\n 'encased': 6680,\n 'paddles': 6680,\n 'irons': 6680,\n 'crura': 6674,\n 'nibbling': 6666,\n 'thighbone': 6662,\n 'inserted': 6658,\n 'cranked': 6652,\n 'ajar': 6648,\n 'speedboat': 6644,\n 'hammering': 6636,\n 'intercept': 6632,\n 'ambidextrous': 6628,\n 'prognathism': 6624,\n 'aggrandizement': 6624,\n 'orifices': 6623,\n 'bobbin': 6622,\n 'stowaway': 6618,\n 'tappets': 6617,\n 'strainers': 6614,\n 'drydocks': 6606,\n 'clubhead': 6603,\n 'scow': 6600,\n 'pencil': 6592,\n 'lengthwise': 6592,\n 'nip': 6588,\n 'hinged': 6568,\n 'periosteum': 6565,\n 'zygomatic': 6564,\n 'choker': 6564,\n 'zipper': 6563,\n 'skewer': 6558,\n 'hatchet': 6550,\n 'levitates': 6538,\n 'bends': 6534,\n 'towel': 6530,\n 'lewis': 6526,\n 'tubed': 6525,\n 'udder': 6522,\n 'tanker': 6521,\n 'drogue': 6518,\n 'pinwheel': 6512,\n 'pilotless': 6511,\n 'cuff': 6510,\n 'governors': 6506,\n 'elbow': 6503,\n 'shims': 6497,\n 'braces': 6488,\n 'spoon': 6474,\n 'lunate': 6472,\n 'Extensor': 6469,\n 'immobilize': 6468,\n 'chording': 6459,\n 'encasement': 6454,\n 'yawing': 6452,\n 'trident': 6450,\n 'zippers': 6446,\n 'dirigibles': 6444,\n 'actuating': 6437,\n 'gelignite': 6434,\n 'tearing': 6432,\n 'clavicles': 6426,\n 'testicle': 6425,\n 'rulers': 6422,\n 'airliner': 6419,\n 'pinches': 6414,\n 'centreboard': 6406,\n 'overbite': 6403,\n 'waterline': 6398,\n 'torpedoed': 6396,\n 'shoelaces': 6376,\n 'cartilage': 6374,\n 'trochlear': 6366,\n 'callus': 6362,\n 'bombsight': 6354,\n 'taxied': 6352,\n 'unwinds': 6352,\n 'quills': 6350,\n 'epiphysis': 6350,\n 'backboard': 6338,\n 'hairs': 6330,\n 'earring': 6324,\n 'immobilizes': 6322,\n 'buttons': 6314,\n 'immobilization': 6292,\n 'wreckage': 6292,\n 'washer': 6291,\n 'taper': 6286,\n 'nut': 6284,\n 'rotated': 6284,\n 'cuffed': 6281,\n 'frontiers': 6278,\n 'cheekbone': 6275,\n 'lacerations': 6263,\n 'raft': 6252,\n 'steam-powered': 6250,\n 'perpendicular': 6246,\n 'side-wheeler': 6240,\n 'dominion': 6240,\n 'earwax': 6238,\n 'calluses': 6236,\n 'perforating': 6234,\n 'carabiners': 6225,\n 'hanger': 6215,\n 'gluing': 6214,\n 'bosun': 6214,\n 'horsehair': 6210,\n 'folds': 6202,\n 'cribbing': 6200,\n 'resembling': 6186,\n 'sultanate': 6182,\n 'laces': 6178,\n 'grater': 6175,\n 'tendinous': 6174,\n 'grinning': 6174,\n 'tori': 6172,\n 'airplane': 6166,\n 'flex': 6164,\n 'chelicerae': 6162,\n 'populous': 6160,\n 'hands': 6154,\n 'fists': 6144,\n 'solenoids': 6142,\n 'actuator': 6141,\n 'beater': 6134,\n 'clubbed': 6128,\n 'collar': 6116,\n 'whack': 6114,\n 'hoof': 6113,\n 'windage': 6107,\n 'bruises': 6104,\n 'bed': 6102,\n 'eyes': 6097,\n 'hove': 6090,\n 'rowboat': 6088,\n 'sternum': 6086,\n 'coccyx': 6086,\n 'grasps': 6083,\n 'occiput': 6082,\n 'cosh': 6080,\n 'muscle': 6071,\n 'angle': 6070,\n 'underside': 6053,\n 'pulls': 6052,\n 'grimace': 6046,\n 'concha': 6044,\n 'Serpens': 6042,\n 'gearshift': 6040,\n ...}"
     },
     "execution_count": 197,
     "metadata": {},
     "output_type": "execute_result"
    }
   ],
   "source": [
    "sc = n.score_all_pruned(s)\n",
    "sc"
   ],
   "metadata": {
    "collapsed": false,
    "ExecuteTime": {
     "end_time": "2023-12-31T08:04:17.760570900Z",
     "start_time": "2023-12-31T08:04:02.259316900Z"
    }
   },
   "id": "b2ea40bea6272075",
   "execution_count": 197
  },
  {
   "cell_type": "code",
   "outputs": [
    {
     "data": {
      "text/plain": "[('claw', ['giant', 'thumb', 'nail', 'lock']),\n ('gunwale', ['thumb', 'nail', 'lock', 'plane', 'ship']),\n ('protruding', ['giant', 'thumb', 'nail', 'lock']),\n ('mortise', ['thumb', 'nail', 'lock']),\n ('windlass', ['thumb', 'nail', 'lock', 'ship']),\n ('shoelace', ['thumb', 'nail', 'lock']),\n ('bandsaw', ['thumb', 'nail', 'lock']),\n ('tenon', ['thumb', 'nail', 'lock']),\n ('shackle', ['thumb', 'nail', 'lock']),\n ('ferrule', ['thumb', 'nail', 'lock']),\n ('pliers', ['thumb', 'nail', 'lock']),\n ('long-handled', ['thumb', 'nail', 'lock']),\n ('claws', ['giant', 'thumb', 'nail']),\n ('screws', ['thumb', 'nail', 'lock']),\n ('vise', ['thumb', 'nail', 'lock']),\n ('scissors', ['thumb', 'nail', 'lock']),\n ('dowel', ['thumb', 'nail', 'lock']),\n ('wrists', ['thumb', 'nail', 'lock']),\n ('dowels', ['thumb', 'nail', 'lock']),\n ('gouges', ['thumb', 'nail', 'lock'])]"
     },
     "execution_count": 198,
     "metadata": {},
     "output_type": "execute_result"
    }
   ],
   "source": [
    "[(x, n.good_matches(x)) for x in list(sc.keys())][:20]"
   ],
   "metadata": {
    "collapsed": false,
    "ExecuteTime": {
     "end_time": "2023-12-31T08:04:38.814064500Z",
     "start_time": "2023-12-31T08:04:36.519677600Z"
    }
   },
   "id": "6c4bfb9b52a1ce87",
   "execution_count": 198
  },
  {
   "cell_type": "code",
   "outputs": [
    {
     "data": {
      "text/plain": "['chair', 'tag']"
     },
     "execution_count": 83,
     "metadata": {},
     "output_type": "execute_result"
    }
   ],
   "source": [
    "n.good_matches('thumbtacks')"
   ],
   "metadata": {
    "collapsed": false,
    "ExecuteTime": {
     "end_time": "2023-12-31T07:16:48.870725700Z",
     "start_time": "2023-12-31T07:16:48.862173900Z"
    }
   },
   "id": "b1d6ef97432b18e1",
   "execution_count": 83
  },
  {
   "cell_type": "code",
   "outputs": [
    {
     "data": {
      "text/plain": "['creel',\n 'craftwork',\n 'hire',\n 'clamming',\n 'Garages',\n 'auctioneering',\n 'Sazali',\n 'worker-owned',\n 'blenders',\n 'Bersham',\n 'ASDA',\n 'Idora',\n 'onsite',\n 'pumphouse',\n 'planer',\n 'machine',\n '450-seat',\n 'Sawmill',\n 'Haçienda',\n 'realtor',\n 'Movieland',\n 'newly-weds',\n 'wallets',\n 'handbag',\n 'stonemasonry',\n 'ironing',\n 'co-working',\n 'alehouses',\n 'mucking',\n 'Migros',\n 'resells',\n 'Spacely',\n 'manufactures',\n 'pittance',\n 'Coney',\n 'Severs',\n '3-story',\n 'chemist',\n 'Shecky',\n 'housekeeping',\n 'Manufacturing',\n 'trimmers',\n 'roof-top',\n 'Andronico',\n 'townhouse',\n 'liquor',\n 'electronics',\n 'intercoms',\n 'chauffeur',\n 'piggy',\n 'chainsaw',\n 'Showroom',\n 'Feech',\n 'low-priced',\n 'orphanage',\n 'wood-carving',\n 'Endsleigh',\n 'janitors',\n 'Pies',\n 'Dispensary',\n 'Snack',\n 'schoolteacher',\n 'Pancakes',\n 'Auntie',\n 'unscrew',\n 'Delmonico',\n 'Pawnshop',\n 'pimp',\n 'kiln',\n 'umbrellas',\n 'Tog',\n 'Housewares',\n 'Squee',\n 'pastries',\n 'Lutie',\n 'cabin',\n 'burglarized',\n 'Shiatzy',\n 'china',\n 'mops',\n 'Sephora',\n 'glass-making',\n 'distilleries',\n 'lobby',\n 'Hongdae',\n 'street-facing',\n 'waffles',\n 'WalMart',\n 'Indian-style',\n 'tie-dye',\n 'teakwood',\n 'babysits',\n 'Boulud',\n 'Ruffino',\n 'dishwashers',\n 'trolleys',\n 'child-care',\n 'shuttered',\n 'workmen',\n 'Pesto',\n 'Jigger',\n 'shaves',\n 'peeked',\n 'doll',\n 'e-commerce',\n 'open-sided',\n 'Wenford',\n 'Hotten',\n 'litho',\n 'Lipe',\n 'Annin',\n 'customise',\n 'carding',\n 'SuperValu',\n 'bungalow',\n 'sofa',\n 'Shillito',\n 'waterslides',\n 'Tobio',\n 'cabbie',\n 'peep',\n 'T-shirts',\n 'toys',\n 'handwork',\n 'lifeguard',\n 'passer-by',\n 'typewriting',\n 'Mølle',\n 'Funland',\n 'sovkhoz',\n 'Co-Operative',\n 'laneway',\n 'bookies',\n 'bentwood',\n 'tourist-oriented',\n 'Applewood',\n 'tinker',\n 'lithographer',\n 'shul',\n 'Pheasantry',\n 'shawarma',\n 'Storehouse',\n 'handcraft',\n 'woolshed',\n 'Reyn',\n 'white-label',\n 'Restaurants',\n 'nachos',\n 'Jumbo',\n 'Farraday',\n 'owners',\n 'living-room',\n 'meatworks',\n 'stagehand',\n 'Nickie',\n 'Dukie',\n 'pullers',\n 'Verandah',\n 'coachbuilder',\n 'Eastcheap',\n 'forges',\n 'Vuillaume',\n 'printers',\n 'cartage',\n 'Suds',\n 'Mortons',\n 'tokonoma',\n 'toaster',\n 'distributor',\n 'Aldate',\n 'Souq',\n 'Kinko',\n 'hand-painted',\n 'Skatepark',\n 'treadle',\n 'crawlspace',\n 'Pedlar',\n 'Scruffy',\n 'Linthorpe',\n 'auctioneers',\n 'frequenting',\n 'Pubs',\n 'Clubhouse',\n 'bakes',\n 'Cosy',\n 'Jordans',\n 'Bhandar',\n 'Canteen',\n 'Wagons-Lits',\n 'M&S',\n 'breweries',\n 'stashes',\n 'Tilsley',\n 'facilities',\n 'Wholesale',\n 'roadhouses',\n 'three-acre',\n 'boxcar',\n 'custom-made',\n 'steelworker',\n 'Curriers',\n 'lettings',\n 'Cakes',\n 'Whisker',\n 'farmer',\n 'Bloomingdale',\n 'gadget',\n 'manse',\n 'dormitory',\n 'passersby',\n 'flat-screen',\n 'admin',\n 'housekeeper',\n 'nightspots',\n 'mortician',\n 'moonlighted',\n 'enameling',\n 'aftershave',\n 'Hilco',\n 'shavers',\n 'wardrobes',\n 'shredders',\n 'hatters',\n 'carnies',\n 'Gramma',\n 'boss',\n 'photo',\n 'firefighter',\n 'Slaters',\n 'flowerpot',\n 'co-owned',\n 'fireman',\n 'motorcar',\n 'hairstyling',\n 'Fashions',\n 'Chalford',\n 'wagon',\n 'bookmobile',\n 'bins',\n 'Broomfields',\n 'seller',\n 'brewmaster',\n 'smithing',\n 'omelet',\n 'Brewery',\n 'money-saving',\n '250-seat',\n 'Whistles',\n 'Wintergarden',\n 'zoo',\n 'catered',\n 'Drapers',\n 'mandi',\n 'forklift',\n 'lodgers',\n '120-seat',\n 'assortment',\n 'bedrooms',\n 'bedsheets',\n 'Kro',\n 'platen',\n 'Egberts',\n 'Gruene',\n 'gymnasium',\n 'chipboard',\n 'chucks',\n 'Octodad',\n 'ormolu',\n 'part-owner',\n 'lounging',\n 'Cottages',\n 'open-air',\n 'handbags',\n 'Marineland',\n 'manufacturers',\n 'condos',\n 'planing',\n 'Inkjet',\n 'graveyard',\n 'roadie',\n 'artisanal',\n 'water-powered',\n 'three-bedroom',\n 'window',\n 'fashionable',\n 'Tinhead',\n 'lorry',\n 'Greengate',\n 'Trussardi',\n 'beadle',\n 'Davinci',\n 'purchasing',\n 'suitcase',\n 'staplers',\n 'Nicholsons',\n 'Tidmouth',\n 'Buy',\n 'Fisherman',\n 'SE1',\n 'Hublot',\n 'Smithfield',\n 'three-storey',\n 'jigger',\n 'bath',\n 'bustling',\n 'waxwork',\n 'beatnik',\n 'Pratts',\n 'mercantile',\n 'home-brewed',\n 'boudoir',\n 'tidying',\n 'stealing',\n 'cut-price',\n 'Knitwear',\n 'CO-OP',\n 'marina',\n 'Shoppes',\n 'locally-made',\n 'drunks',\n 'Caffè',\n 'Floss',\n 'discounters',\n 'chiropractor',\n 'gutted',\n 'Kamurocho',\n 'Muji',\n 'Pillbox',\n 'Taxidermy',\n 'Linby',\n 'clockworks',\n 'SoMa',\n 'Mill',\n 'Sniderman',\n 'bottle',\n 'craft',\n 'Shinsegae',\n 'Motts',\n 'tub',\n 'Teutul',\n 'cupcakes',\n 'Scoops',\n 'bathhouses',\n 'vend',\n 'dines',\n 'Portobello',\n 'ecommerce',\n 'Apothecary',\n 'builder',\n 'stash',\n 'haggling',\n 'touristy',\n 'Hakubutsukan',\n 'Hawkshead',\n 'Walmart',\n 'tongs',\n 'car',\n 'roustabout',\n 'Bookbinder',\n 'Loaves',\n 'Clockmakers',\n 'two-bedroom',\n 'ashtrays',\n 'mower',\n 'stonecutters',\n 'third-floor',\n 'honjin',\n 'six-storey',\n 'Discount',\n 'resellers',\n 'mid-priced',\n 'Yick',\n 'sub-let',\n 'tumblers',\n 'import/export',\n 'family-style',\n 'Georgio',\n 'Paternoster',\n 'Lusty',\n 'Waffle',\n 'hand-powered',\n 'trader',\n 'jacking',\n 'Chulbul',\n 'Ungaro',\n 'Batlló',\n 'Loblaws',\n 'reverend',\n 'bandsaw',\n 'gurudwara',\n 'goods',\n 'hookers',\n 'Fayerweather',\n 'nightgown',\n 're-opens',\n 'gingham',\n 'lawn',\n 'Pasty',\n 'blinds',\n 'waterslide',\n 'buyer',\n 'seven-storey',\n 'Bahnhofstraße',\n 'tommy',\n 'salesmanship',\n 'grubby',\n 'pie',\n 'Carts',\n 'clientele',\n 'eight-room',\n 'Saravana',\n 'bangles',\n 'furnishings',\n 'Spillers',\n 'JCPenney',\n 'percolator',\n 'hotel-casino',\n 'Stationery',\n 'containsTSN',\n 'nurseryman',\n 'Wangfujing',\n 'mini-bus',\n 'Luxottica',\n 'railwayman',\n 'underwear',\n 'popcorn',\n 'part-timer',\n 'Beachside',\n 'machinery',\n 'cochere',\n 'duplicator',\n 'cheeseburgers',\n 'Kilns',\n 'B2C',\n 'samosa',\n 'Tussaud',\n 'appliances',\n 'sixpence',\n 'loitering',\n 'Taco',\n 'brushes',\n 'obligingly',\n 'chauffeurs',\n 'red-light',\n 'automotive',\n 'Mannequins',\n 'lingerie',\n 'walk-in',\n 'stamper',\n 'Isokon',\n 'Co.',\n 'Gallery',\n 'Clybourn',\n 'smiths',\n 'merchants',\n 'Wegmans',\n 'Outbuildings',\n 'shavings',\n 'dyers',\n 'barbells',\n 'Twentyman',\n 'Carrefour',\n 'auditorium',\n 'Kutir',\n 'chocolate',\n 'duffel',\n 'steam-operated',\n 'Dimato',\n 'Coalport',\n 'Katin',\n 'ready-made',\n 'Angrily',\n 'doggy',\n 'Planing',\n 'Acme',\n 'skatepark',\n 'threshing',\n 'sous-chef',\n 'seltzer',\n 'cosy',\n 'Flowerpot',\n 'Eun-soo',\n 'Arby',\n 'Waterfoot',\n 'hydrant',\n 'chapel',\n 'mementos',\n 'Tittenhurst',\n 'gardening',\n 'gamekeeper',\n 'fortune-teller',\n 'extinguisher',\n 'Chocolatier',\n 'redecorate',\n 'Pomodoro',\n 'millwrights',\n 'dorm',\n 'Keizersgracht',\n 'fountain',\n 'Sears',\n 'designer',\n 'five-story',\n 'Bespoke',\n 'barns',\n 'Doner',\n 'Gestetner',\n 'Minories',\n 'non-perishable',\n 'Parisio',\n 'vandalising',\n 'Korova',\n 'Brewhouse',\n 'stockbrokers',\n 'Rax',\n 'high-class',\n 'locket',\n 'faucets',\n 'perishables',\n 'woollens',\n 'Haribo',\n 'sweatpants',\n 'establishments',\n 'Menards',\n 'Hutzler',\n 'Bakeries',\n '4-story',\n 'lettable',\n 'Yohji',\n '7-story',\n 'Gallaghers',\n 'merchant',\n 'employer',\n 'Teyler',\n 'Horse-drawn',\n 'Jung-won',\n 'remanufacturing',\n 'Toyopet',\n 'Wal-Mart',\n 'importers',\n 'puller',\n 'Olde',\n 'Burhop',\n 'Cupcakes',\n 'bookshelves',\n 'secretarial',\n 'Shambles',\n 'steam-powered',\n 'sneaks',\n 'halls',\n 'Dagwood',\n 'coworking',\n 'turd',\n 'sweetmeats',\n 'clockwork',\n 'specialty',\n 'traditional-style',\n 'Tweek',\n 'Brothel',\n 'embroidering',\n 'bedstead',\n 'Stalls',\n 'driveway',\n 'typesetters',\n 'Dunelm',\n 'Decorating',\n 'Diagon',\n 'Chullora',\n 'chef',\n 'headhunter',\n 'maitre',\n 'customhouse',\n 'Bibendum',\n 'Boucheron',\n 'Thatched',\n 'mistreats',\n 'Bullring',\n 'leather',\n 'alleyways',\n 'drop-in',\n 'wallpaper',\n 'tent',\n 'realtors',\n 'Nobin',\n 'housecleaning',\n 'Johnie',\n 'posh',\n 'grindstone',\n 'snips',\n 'armory',\n 'Haddenham',\n 'B&S',\n 'lofts',\n 'toolmaking',\n 'hipped-roof',\n 'Cranks',\n 'shophouses',\n 'maven',\n 'bookcases',\n 'astro-turf',\n 'Quincannon',\n 'vegetable',\n 'kennels',\n 'football-themed',\n 'Furnishings',\n 'Warrendale',\n 'Wok',\n 'banisters',\n 'Lansburgh',\n 'Bijutsukan',\n 'Customhouse',\n '300-seat',\n 'thief',\n 'laboratory',\n 'Jae-min',\n 'nice',\n 'unfurnished',\n '3D-printed',\n 'Steakhouse',\n 'matchboxes',\n 'pastas',\n 'non-edible',\n 'Chinese-owned',\n 'popper',\n 'Baxters',\n 'fit-out',\n 'flowerpots',\n 'tablecloth',\n 'pre-prep',\n 'cabs',\n 'Warehouses',\n 'custom-built',\n 'Garçons',\n 'Kernville',\n 'one-of-a-kind',\n 'Cordage',\n 'Conran',\n 'staithes',\n 'workspaces',\n 'mass-producing',\n 'custom-designed',\n 'housemaid',\n 'enthusiast',\n 'doughnut',\n 'Regas',\n 'canneries',\n 'Shoney',\n 'Battley',\n 'Fnac',\n 'chic',\n 'brewpubs',\n 'hamburger',\n 'intarsia',\n 'Vivienne',\n 'Collectibles',\n 'slutty',\n 'self-owned',\n 'Verkade',\n 'paan',\n 'Depot',\n 'Nige',\n 'skateboards',\n 'darning',\n 'Takeaway',\n 'co-worker',\n 'Squeers',\n 'Kamman',\n 'Wainscott',\n 'Aldersgate',\n 'Ironmonger',\n 'hoteliers',\n 'Coffeehouse',\n 'headhouse',\n 'Powells',\n 'Customers',\n 'live-in',\n 'langar',\n 'get-away',\n 'foot-long',\n 'perfumery',\n 'bangle',\n 'signe',\n 'shoes',\n 'groundsman',\n 'Soo-jung',\n 'reconditioned',\n 'Khabouth',\n 'schoolfriend',\n 'Fourdrinier',\n 'Hillgrove',\n 'Agah',\n 'Klinkerhoffen',\n 'pizzas',\n 'craftsmen',\n 'Rices',\n 'thieves',\n 'Briars',\n 'airbrushing',\n 'Towser',\n 'Dotty',\n 'storehouses',\n 'sub-station',\n 'blowtorch',\n 'company',\n 'Woodworking',\n 'one-cylinder',\n 'Millbank',\n 'Sibford',\n 'four-storey',\n 'Jeetu',\n 'copiers',\n 'flea',\n 'Bournville',\n 'militaria',\n 'Anglais',\n 'carnival',\n 'war-surplus',\n 'Chinatown',\n 'Postum',\n 'Akroyd',\n 'glassmakers',\n 'Bambini',\n 'Hofje',\n 'Prinsengracht',\n 'industry',\n 'delicacies',\n 'Biba',\n 'Galleria',\n 'Bookmakers',\n 'ramshackle',\n 'workwear',\n 'sundry',\n 'proprietors',\n 'ballroom',\n 'Maxx',\n 'floorboards',\n 'glassmaker',\n 'Sheffield-based',\n 'low-rent',\n 'gunsmiths',\n 'wares',\n 'tenements',\n 'bobby',\n 'Cussons',\n 'Dustfinger',\n 'Ranchod',\n 'one-acre',\n 'Myddleton',\n 'boning',\n 'jun.',\n 'rewinds',\n 'grillwork',\n 'recycler',\n 'pavilion',\n 'Rickshaws',\n '500-seat',\n 'Perrino',\n 'Nightclub',\n 'Bromley-by-Bow',\n 'bhai',\n 'activewear',\n 'onigiri',\n 'Teddie',\n 'Shopper',\n 'fetes',\n 'undertakers',\n 'gasometer',\n 'toupee',\n 'stairwell',\n 'doors',\n 'scrapbook',\n 'postcards',\n 'moonlights',\n 'Websters',\n 'Looff',\n 'Dayzee',\n 'bandstand',\n 'crate',\n 'Manhattan-based',\n 'Hofbräuhaus',\n 'drinks',\n 'menu',\n '92-year-old',\n 'alleys',\n 'dragstrip',\n 'artisans',\n 'buskers',\n 'belongings',\n 'maisons',\n 'Etsy',\n 'almshouses',\n 'now-vanished',\n 'Magnin',\n 'milkshakes',\n 'circus',\n 'horology',\n 'Chandlers',\n 'packing',\n 'lunching',\n 'farms',\n 'Karingal',\n 'entrepreneur',\n 'furnishing',\n 'Zellers',\n 'advertising',\n 'clown',\n 'opened',\n 'Chihuly',\n 'Balamory',\n 'stoves',\n 'hand-operated',\n 'market',\n 'typewriter',\n 'fryers',\n 'block-long',\n 'robbed',\n 'Goupil',\n 'Veranda',\n 'Sodexo',\n 'Carphone',\n 'plastering',\n 'Hoxton',\n 'brands',\n 'Chix',\n 'welding',\n 'small',\n 'cuddle',\n 'nappies',\n 'Gedung',\n 'wardrobe',\n 'Bouchon',\n 'hairstylist',\n 'Stylo',\n 'Bealls',\n 'Hennes',\n 'low-paying',\n 'Maxon',\n 'Gardners',\n 'Marriot',\n 'AEON',\n 'Tylers',\n 'Ahold',\n 'hobbyist',\n 'longingly',\n 'Randalls',\n 'Forepaugh',\n 'Wax',\n 'Cupcake',\n 'limekilns',\n 'Cucina',\n 'bordellos',\n 'Stansby',\n 'piazza',\n 'Brainy',\n 'Bierley',\n 'safecracker',\n 'Endell',\n 'Jimmi',\n 'tuck',\n 'eavesdrops',\n 'high-priced',\n 'scooter',\n 'Hoveton',\n 'Onsite',\n 'Mince',\n 'Dockside',\n 'Yorkie',\n 'cemetery',\n 'Søn',\n 'Chopping',\n 'Coop',\n 'jailhouse',\n 'Mayme',\n 'Sheds',\n 'accosts',\n 'Panisse',\n 'Soloman',\n 'Benihana',\n 'ex-boxer',\n 'workhouse',\n 'Patou',\n 'Puddin',\n 'schoolmaster',\n 'bicycles',\n 'Creameries',\n 'Przedmieście',\n 'Relais',\n 'farriers',\n 'McCartneys',\n 'housewife',\n 'couture',\n 'horse-drawn',\n 'cakes',\n 'Churchgate',\n 'court-house',\n 'pincode',\n \"l'Hôtel\",\n 'discount',\n 'Gristmill',\n 'retailed',\n 'Spindoe',\n 'Lane',\n 'handiwork',\n 'Ackermans',\n 'decor',\n 'Kragen',\n 'Mechanic',\n 'steam-engine',\n 'Jiggers',\n 'sleepwear',\n 'Hancocks',\n 'boiler',\n 'shelves',\n 'saws',\n 'techs',\n 'box',\n 'boy',\n '70-year-old',\n 'Nescafe',\n 'popsicle',\n 'Ansco',\n 'Weatherfield',\n 'cinema',\n 'pyjamas',\n 'sorbet',\n 'raincoats',\n 'armourer',\n 'baking',\n 'dentists',\n 'Auctioneers',\n 'Specsavers',\n 'Cineworld',\n 'Knapford',\n 'single-storeyed',\n 'Ulta',\n 'ajar',\n 'Ballu',\n 'brokerage',\n 'Veg',\n 'swiped',\n 'cabins',\n 'sales',\n 'Canonbury',\n 'print',\n 'Jewelry',\n 'burritos',\n 'Minyard',\n 'boarding-school',\n 'ticket',\n 'made-to-order',\n 'Jewellery',\n 'double-storey',\n 'Butcher',\n 'lockup',\n 'Boudoir',\n 'mattress',\n 'hand-rolled',\n 'luxury',\n 'Newmains',\n 'Sutton-in-Ashfield',\n 'Bar-B-Q',\n 'escalator',\n 'greaser',\n 'chainsaws',\n 'second-run',\n 'Popeyes',\n 'rent',\n 'sitdown',\n 'Fenchurch',\n 'gossiping',\n 'Birdcage',\n 'expo',\n 'Lambretta',\n 'cappuccino',\n 'Blobby',\n 'waggon',\n 'Mittens',\n 'Nespresso',\n 'fresheners',\n 'clinics',\n 'croissants',\n 'Tinplate',\n 'rob',\n 'Bonhams',\n 'wada',\n 'Pop-up',\n 'single-storey',\n 'fondue',\n 'burned-out',\n 'recliner',\n 'Searsport',\n 'Daas',\n 'Mr',\n 'panties',\n 'jackaroo',\n 'cotton-spinning',\n 'Magasin',\n 'Bahnhofstrasse',\n 'carrels',\n 'Nurseries',\n 'Ecke']"
     },
     "execution_count": 191,
     "metadata": {},
     "output_type": "execute_result"
    }
   ],
   "source": [
    "NishyBot2.count_matches(n.okay_similars, 'protruding')\n",
    "n.okay_similars[0][2000:]"
   ],
   "metadata": {
    "collapsed": false,
    "ExecuteTime": {
     "end_time": "2023-12-31T08:01:41.674640600Z",
     "start_time": "2023-12-31T08:01:41.670618600Z"
    }
   },
   "id": "3e1607b5e74a93b",
   "execution_count": 191
  },
  {
   "cell_type": "code",
   "outputs": [],
   "source": [
    "\"\"\"\n",
    "tour: ['concert', 'play', 'trip']\n",
    "wrestle: ['play', 'tag']\n",
    "wrestle: ['play', 'tag']\n",
    "robe: ['dress', 'chair']\n",
    "\n",
    "'claw', ['giant', 'thumb', 'nail', 'lock'])\n",
    "('freighter', ['plane', 'ship'])\n",
    "('republic', ['state', 'capital'])\n",
    "('apoptosis', ['cell'])\n",
    "('protruding', ['giant', 'thumb', 'lock'])\n",
    "\n",
    "[('claw', ['giant', 'thumb', 'nail', 'lock']),\n",
    " ('gunwale', ['thumb', 'nail', 'lock', 'plane', 'ship']),\n",
    " ('protruding', ['giant', 'thumb', 'nail', 'lock']),\n",
    " ('shoelace', ['thumb', 'nail', 'lock']),\n",
    " ('mortise', ['thumb', 'nail', 'lock']),\n",
    " ('bandsaw', ['thumb', 'nail', 'lock']),\n",
    " ('long-handled', ['thumb', 'nail', 'lock']),\n",
    " ('vise', ['thumb', 'nail', 'lock']),\n",
    " ('shackle', ['thumb', 'nail', 'lock']),\n",
    " ('tenon', ['thumb', 'nail', 'lock']),\n",
    " ('ferrule', ['thumb', 'nail', 'lock']),\n",
    " ('pliers', ['thumb', 'nail', 'lock']),\n",
    " ('screws', ['thumb', 'nail', 'lock']),\n",
    " ('wrists', ['thumb', 'nail', 'lock']),\n",
    " ('claws', ['giant', 'thumb', 'nail']),\n",
    " ('halyard', ['thumb', 'nail', 'lock', 'ship']),\n",
    " ('scissors', ['thumb', 'nail', 'lock']),\n",
    " ('dowel', ['thumb', 'nail', 'lock']),\n",
    " ('forepaws', ['giant', 'thumb', 'nail']),\n",
    " ('dowels', ['thumb', 'nail', 'lock'])]\n",
    "\"\"\"\n",
    "\n"
   ],
   "metadata": {
    "collapsed": false
   },
   "id": "964a28d38f18622f"
  }
 ],
 "metadata": {
  "kernelspec": {
   "display_name": "Python 3",
   "language": "python",
   "name": "python3"
  },
  "language_info": {
   "codemirror_mode": {
    "name": "ipython",
    "version": 2
   },
   "file_extension": ".py",
   "mimetype": "text/x-python",
   "name": "python",
   "nbconvert_exporter": "python",
   "pygments_lexer": "ipython2",
   "version": "2.7.6"
  }
 },
 "nbformat": 4,
 "nbformat_minor": 5
}
