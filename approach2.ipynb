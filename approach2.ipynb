{
 "cells": [
  {
   "cell_type": "code",
   "execution_count": 13,
   "id": "initial_id",
   "metadata": {
    "collapsed": true,
    "ExecuteTime": {
     "end_time": "2023-12-31T10:53:09.841037700Z",
     "start_time": "2023-12-31T10:53:08.472709900Z"
    }
   },
   "outputs": [],
   "source": [
    "import gensim\n",
    "from nltk.corpus import wordnet as wn\n",
    "\n",
    "model = gensim.models.KeyedVectors.load_word2vec_format('gigaword-nocase-26.bin', binary=True)"
   ]
  },
  {
   "cell_type": "code",
   "outputs": [],
   "source": [
    "class NishyBot2:\n",
    "    TOP_N = 10000\n",
    "    SAMENESS_THRESHOLD = 0\n",
    "\n",
    "    def find_similars(words):\n",
    "        similars = []\n",
    "        for word in words:\n",
    "            try:\n",
    "                similars.append({x[0]:i for i, x in enumerate(model.most_similar(positive=[word], topn=NishyBot2.TOP_N))})\n",
    "            except KeyError:\n",
    "                similars.append([])\n",
    "                print('No similar words found for', word)\n",
    "        return similars\n",
    "\n",
    "    def count_matches(wordlists, test):\n",
    "        count = 0\n",
    "        for wordlist in wordlists:\n",
    "            if test in wordlist:\n",
    "                count += len(wordlist) - wordlist[test]\n",
    "        return count\n",
    "\n",
    "    def __init__(self, good, bad, okay, assassin):\n",
    "        self.good = good\n",
    "        self.bad = bad\n",
    "        self.okay = okay\n",
    "        self.assassin = assassin\n",
    "\n",
    "        self.good_similars = NishyBot2.find_similars(good)\n",
    "        self.bad_similars = NishyBot2.find_similars(bad)\n",
    "        self.okay_similars = NishyBot2.find_similars(okay)\n",
    "        self.assassin_similars = NishyBot2.find_similars(assassin)\n",
    "\n",
    "    def good_matches(self, test):\n",
    "        result = []\n",
    "        for i, similar in enumerate(self.good_similars):\n",
    "            if test in similar:\n",
    "                result.append(self.good[i])\n",
    "        return result\n",
    "\n",
    "    def score(self, test):\n",
    "        good_count = NishyBot2.count_matches(self.good_similars, test)\n",
    "        bad_count = NishyBot2.count_matches(self.bad_similars, test)\n",
    "        okay_count = NishyBot2.count_matches(self.okay_similars, test)\n",
    "        assassin_count = NishyBot2.count_matches(self.assassin_similars, test)\n",
    "\n",
    "        return good_count - bad_count - 0.5 * okay_count - 3 * assassin_count\n",
    "\n",
    "    def score_all(self, wordset):\n",
    "        scores = [(x, self.score(x)) for x in wordset]\n",
    "        scores.sort(key=lambda x: x[1], reverse=True)\n",
    "        scores = dict(scores)\n",
    "        return scores\n",
    "\n",
    "    def score_all_pruned(self, wordset):\n",
    "        scores = self.score_all(wordset)\n",
    "        hints = list(scores.keys())\n",
    "\n",
    "        for i, hint in enumerate(hints):\n",
    "            if len(wn.synsets(hint)) == 0:  # if it's not a real word\n",
    "                if hint in scores:\n",
    "                    scores.pop(hint)\n",
    "            else:  # if it's too similar to an existing word\n",
    "                for word in self.good:\n",
    "                    if word in hint or hint in word:\n",
    "                        if hint in scores:\n",
    "                            scores.pop(hint)\n",
    "                            break\n",
    "\n",
    "        return scores\n"
   ],
   "metadata": {
    "collapsed": false,
    "ExecuteTime": {
     "end_time": "2023-12-31T10:53:46.305765200Z",
     "start_time": "2023-12-31T10:53:46.197480300Z"
    }
   },
   "id": "15c8a61806e0e419",
   "execution_count": 23
  },
  {
   "cell_type": "code",
   "outputs": [],
   "source": [
    "def pregame(good, bad, okay, assassin):\n",
    "    good2 = good.copy()\n",
    "    while len(good2) != 0:\n",
    "        n = NishyBot2(good2, bad, okay, assassin)\n",
    "\n",
    "        s = set()\n",
    "        for similar in n.good_similars:\n",
    "            for word in similar:\n",
    "                s.add(word)\n",
    "\n",
    "        sc = n.score_all_pruned(s)\n",
    "\n",
    "        hint = list(sc.keys())[0]\n",
    "        matches = n.good_matches(hint)\n",
    "        print(hint, matches)\n",
    "        good2 = list(filter(lambda x: x not in matches, good2))\n"
   ],
   "metadata": {
    "collapsed": false,
    "ExecuteTime": {
     "end_time": "2023-12-31T10:53:46.527837500Z",
     "start_time": "2023-12-31T10:53:46.515723500Z"
    }
   },
   "id": "d3f7ac99c52a128c",
   "execution_count": 24
  },
  {
   "cell_type": "code",
   "outputs": [],
   "source": [
    "good = 'sack makeup bottle cuckoo cast cone jockey America'.lower().split(' ')\n",
    "bad = 'nut Russia fog break spider bear rip tube plane'.lower().split(' ')\n",
    "okay = 'Christmas pool Beijing trip nyc fever peanut'.lower().split(' ')\n",
    "assassin = 'link'.lower().split(' ')\n",
    "\n",
    "# good = 'spot,blade,chain,record,magician,jeweler,fiddle,apple'.lower().split(',')\n",
    "# bad = 'wonderland,Newton,glacier,pig,spy,lead,mess,duck,stable'.lower().split(',')\n",
    "# okay = 'India,millionaire,rainbow,razor,bridge,polo,Notre,Dame'.lower().split(',')\n",
    "# assassin = 'ice,cream'.lower().split(',')\n",
    "\n",
    "# good = ['giant', 'thumb', 'nail', 'lock','plane', 'ship','cell','state', 'capital']\n",
    "# bad = ['Aztec', 'court','chocolate','space','snow']\n",
    "# okay = ['shop','genius','ambulance','button','heart','pupil','vet']\n",
    "# assassin = ['microscope']"
   ],
   "metadata": {
    "collapsed": false,
    "ExecuteTime": {
     "end_time": "2023-12-31T10:53:46.829553300Z",
     "start_time": "2023-12-31T10:53:46.818016800Z"
    }
   },
   "id": "e4aee83445073875",
   "execution_count": 25
  },
  {
   "cell_type": "code",
   "outputs": [
    {
     "name": "stdout",
     "output_type": "stream",
     "text": [
      "comedian ['makeup', 'cast', 'jockey', 'america']\n",
      "confiscate ['sack', 'bottle']\n",
      "trilling ['cuckoo', 'cone']\n"
     ]
    }
   ],
   "source": [
    "pregame(good, bad, okay, assassin)"
   ],
   "metadata": {
    "collapsed": false,
    "ExecuteTime": {
     "end_time": "2023-12-31T10:53:50.459695800Z",
     "start_time": "2023-12-31T10:53:47.385285500Z"
    }
   },
   "id": "36c197a22473ed44",
   "execution_count": 26
  },
  {
   "cell_type": "code",
   "outputs": [
    {
     "name": "stdout",
     "output_type": "stream",
     "text": [
      "55971\n"
     ]
    },
    {
     "data": {
      "text/plain": "[('comedian', ['makeup', 'cast', 'jockey', 'america'], 31748.5),\n ('entertainer', ['makeup', 'cast', 'jockey', 'america'], 31160.0),\n ('anoint', ['sack', 'makeup', 'cast', 'jockey'], 30661.0),\n ('hollywood', ['makeup', 'cuckoo', 'cast', 'jockey', 'america'], 29910.5),\n ('outsider', ['makeup', 'cast', 'jockey', 'america'], 28967.0),\n ('audition', ['makeup', 'cuckoo', 'cast', 'jockey'], 28097.5),\n ('animator', ['makeup', 'cuckoo', 'cast', 'jockey'], 27839.0),\n ('conceit', ['makeup', 'cuckoo', 'cast', 'america'], 27759.0),\n ('shuffle', ['sack', 'makeup', 'jockey'], 27575.0),\n ('whippersnapper', ['makeup', 'cast', 'jockey', 'america'], 27572.0),\n ('incumbent', ['sack', 'cast', 'jockey'], 27510.0),\n ('actor', ['makeup', 'cuckoo', 'cast', 'jockey', 'america'], 27351.0),\n ('contestant', ['makeup', 'cast', 'jockey'], 27335.0),\n ('streep', ['makeup', 'cuckoo', 'cast'], 27232.0),\n ('reality', ['makeup', 'cast', 'america'], 26870.0),\n ('booth', ['makeup', 'bottle', 'cast', 'cone'], 26861.0),\n ('portrayal', ['makeup', 'cuckoo', 'cast'], 26296.0),\n ('anointed', ['sack', 'makeup', 'cast', 'jockey'], 26257.0),\n ('presenter', ['makeup', 'cast', 'jockey'], 26139.0),\n ('villain', ['makeup', 'cuckoo', 'cast', 'america'], 25958.0)]"
     },
     "execution_count": 27,
     "metadata": {},
     "output_type": "execute_result"
    }
   ],
   "source": [
    "n = NishyBot2(good, bad, okay, assassin)\n",
    "\n",
    "s = set()\n",
    "for similar in n.good_similars:\n",
    "    for word in similar:\n",
    "        s.add(word)\n",
    "print(len(s))\n",
    "\n",
    "sc = n.score_all_pruned(s)\n",
    "[(x, n.good_matches(x), sc[x]) for x in list(sc.keys())][:20]"
   ],
   "metadata": {
    "collapsed": false,
    "ExecuteTime": {
     "end_time": "2023-12-31T10:54:01.834453300Z",
     "start_time": "2023-12-31T10:54:00.444470200Z"
    }
   },
   "id": "6e0e101fca9f0ee0",
   "execution_count": 27
  },
  {
   "cell_type": "code",
   "outputs": [
    {
     "data": {
      "text/plain": "0"
     },
     "execution_count": 224,
     "metadata": {},
     "output_type": "execute_result"
    }
   ],
   "source": [
    "NishyBot2.count_matches(n.bad_similars, 'spoiled')"
   ],
   "metadata": {
    "collapsed": false
   },
   "id": "3e1607b5e74a93b",
   "execution_count": 224
  },
  {
   "cell_type": "code",
   "outputs": [
    {
     "data": {
      "text/plain": "1"
     },
     "execution_count": 227,
     "metadata": {},
     "output_type": "execute_result"
    }
   ],
   "source": [
    "n.good_similars[good.index('cone')].index('encase')"
   ],
   "metadata": {
    "collapsed": false,
    "ExecuteTime": {
     "end_time": "2023-12-31T10:01:53.697365Z",
     "start_time": "2023-12-31T10:01:53.691761600Z"
    }
   },
   "id": "b4fcb10ec4c83799",
   "execution_count": 227
  },
  {
   "cell_type": "code",
   "outputs": [],
   "source": [],
   "metadata": {
    "collapsed": false
   },
   "id": "b8542a4d0b07b6e9"
  }
 ],
 "metadata": {
  "kernelspec": {
   "display_name": "Python 3",
   "language": "python",
   "name": "python3"
  },
  "language_info": {
   "codemirror_mode": {
    "name": "ipython",
    "version": 2
   },
   "file_extension": ".py",
   "mimetype": "text/x-python",
   "name": "python",
   "nbconvert_exporter": "python",
   "pygments_lexer": "ipython2",
   "version": "2.7.6"
  }
 },
 "nbformat": 4,
 "nbformat_minor": 5
}
