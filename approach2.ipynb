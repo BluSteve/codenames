{
 "cells": [
  {
   "cell_type": "code",
   "execution_count": 214,
   "id": "initial_id",
   "metadata": {
    "collapsed": true,
    "ExecuteTime": {
     "end_time": "2023-12-31T10:00:44.688116200Z",
     "start_time": "2023-12-31T10:00:43.649779900Z"
    }
   },
   "outputs": [],
   "source": [
    "import gensim\n",
    "from nltk.corpus import wordnet as wn\n",
    "from nltk.metrics.distance import edit_distance\n",
    "\n",
    "model = gensim.models.KeyedVectors.load_word2vec_format('gigaword-nocase-26.bin', binary=True)"
   ]
  },
  {
   "cell_type": "code",
   "outputs": [],
   "source": [
    "class NishyBot2:\n",
    "    TOP_N = 2000\n",
    "    SAMENESS_THRESHOLD = 0\n",
    "\n",
    "    def find_similars(words):\n",
    "        similars = []\n",
    "        for word in words:\n",
    "            try:\n",
    "                similars.append([x[0] for x in model.most_similar(positive=[word], topn=NishyBot2.TOP_N)])\n",
    "            except KeyError:\n",
    "                similars.append([])\n",
    "                print('No similar words found for', word)\n",
    "        return similars\n",
    "\n",
    "    def count_matches(wordlists, test):\n",
    "        count = 0\n",
    "        for wordlist in wordlists:\n",
    "            if test in wordlist:\n",
    "                count += len(wordlist) - wordlist.index(test)\n",
    "        return count\n",
    "\n",
    "    def __init__(self, good, bad, okay, assassin):\n",
    "        self.good = good\n",
    "        self.bad = bad\n",
    "        self.okay = okay\n",
    "        self.assassin = assassin\n",
    "\n",
    "        self.good_similars = NishyBot2.find_similars(good)\n",
    "        self.bad_similars = NishyBot2.find_similars(bad)\n",
    "        self.okay_similars = NishyBot2.find_similars(okay)\n",
    "        self.assassin_similars = NishyBot2.find_similars(assassin)\n",
    "\n",
    "    def good_matches(self, test):\n",
    "        result = []\n",
    "        for i, similar in enumerate(self.good_similars):\n",
    "            if test in similar:\n",
    "                result.append(self.good[i])\n",
    "        return result\n",
    "\n",
    "    def score(self, test):\n",
    "        good_count = NishyBot2.count_matches(self.good_similars, test)\n",
    "        bad_count = NishyBot2.count_matches(self.bad_similars, test)\n",
    "        okay_count = NishyBot2.count_matches(self.okay_similars, test)\n",
    "        assassin_count = NishyBot2.count_matches(self.assassin_similars, test)\n",
    "\n",
    "        return good_count - bad_count - 0.5 * okay_count - 3 * assassin_count\n",
    "\n",
    "    def score_all(self, wordset):\n",
    "        scores = [(x, self.score(x)) for x in wordset]\n",
    "        scores.sort(key=lambda x: x[1], reverse=True)\n",
    "        scores = dict(scores)\n",
    "        return scores\n",
    "\n",
    "    def score_all_pruned(self, wordset):\n",
    "        scores = self.score_all(wordset)\n",
    "        hints = list(scores.keys())\n",
    "\n",
    "        for i, hint in enumerate(hints):\n",
    "            if len(wn.synsets(hint)) == 0:  # if it's not a real word\n",
    "                if hint in scores:\n",
    "                    scores.pop(hint)\n",
    "            else:  # if it's too similar to an existing word\n",
    "                for word in self.good:\n",
    "                    if word in hint or hint in word:\n",
    "                        if hint in scores:\n",
    "                            scores.pop(hint)\n",
    "                            break\n",
    "\n",
    "        return scores\n"
   ],
   "metadata": {
    "collapsed": false,
    "ExecuteTime": {
     "end_time": "2023-12-31T10:05:36.187677100Z",
     "start_time": "2023-12-31T10:05:36.174158100Z"
    }
   },
   "id": "15c8a61806e0e419",
   "execution_count": 239
  },
  {
   "cell_type": "code",
   "outputs": [],
   "source": [
    "def pregame(good, bad, okay, assassin):\n",
    "    good2 = good.copy()\n",
    "    while len(good2) != 0:\n",
    "        n = NishyBot2(good2, bad, okay, assassin)\n",
    "\n",
    "        s = set()\n",
    "        for similar in n.good_similars:\n",
    "            for word in similar:\n",
    "                s.add(word)\n",
    "\n",
    "        sc = n.score_all_pruned(s)\n",
    "\n",
    "        hint = list(sc.keys())[0]\n",
    "        matches = n.good_matches(hint)\n",
    "        print(hint, matches)\n",
    "        good2 = list(filter(lambda x: x not in matches, good2))\n"
   ],
   "metadata": {
    "collapsed": false,
    "ExecuteTime": {
     "end_time": "2023-12-31T10:05:36.389842600Z",
     "start_time": "2023-12-31T10:05:36.384835300Z"
    }
   },
   "id": "d3f7ac99c52a128c",
   "execution_count": 240
  },
  {
   "cell_type": "code",
   "outputs": [],
   "source": [
    "good = 'sack makeup bottle cuckoo cast cone jockey America'.lower().split(' ')\n",
    "bad = 'nut Russia fog break spider bear rip tube plane'.lower().split(' ')\n",
    "okay = 'Christmas pool Beijing trip nyc fever peanut'.lower().split(' ')\n",
    "assassin = 'link'.lower().split(' ')\n",
    "\n",
    "# good = 'spot,blade,chain,record,magician,jeweler,fiddle,apple'.lower().split(',')\n",
    "# bad = 'wonderland,Newton,glacier,pig,spy,lead,mess,duck,stable'.lower().split(',')\n",
    "# okay = 'India,millionaire,rainbow,razor,bridge,polo,Notre,Dame'.lower().split(',')\n",
    "# assassin = 'ice,cream'.lower().split(',')\n",
    "\n",
    "# good = ['giant', 'thumb', 'nail', 'lock','plane', 'ship','cell','state', 'capital']\n",
    "# bad = ['Aztec', 'court','chocolate','space','snow']\n",
    "# okay = ['shop','genius','ambulance','button','heart','pupil','vet']\n",
    "# assassin = ['microscope']"
   ],
   "metadata": {
    "collapsed": false,
    "ExecuteTime": {
     "end_time": "2023-12-31T10:05:36.672405Z",
     "start_time": "2023-12-31T10:05:36.652311500Z"
    }
   },
   "id": "e4aee83445073875",
   "execution_count": 241
  },
  {
   "cell_type": "code",
   "outputs": [
    {
     "name": "stdout",
     "output_type": "stream",
     "text": [
      "ensemble ['makeup', 'cuckoo', 'cast']\n",
      "burlap ['sack', 'bottle', 'cone']\n",
      "helmsman ['jockey', 'america']\n"
     ]
    }
   ],
   "source": [
    "pregame(good, bad, okay, assassin)"
   ],
   "metadata": {
    "collapsed": false,
    "ExecuteTime": {
     "end_time": "2023-12-31T10:05:49.739836700Z",
     "start_time": "2023-12-31T10:05:37.230083900Z"
    }
   },
   "id": "36c197a22473ed44",
   "execution_count": 242
  },
  {
   "cell_type": "code",
   "outputs": [
    {
     "name": "stdout",
     "output_type": "stream",
     "text": [
      "14038\n"
     ]
    },
    {
     "data": {
      "text/plain": "[('musician', ['magician', 'jeweler', 'fiddle'], 5049.0),\n ('store', ['chain', 'jeweler', 'apple'], 4851.0),\n ('retailer', ['chain', 'jeweler', 'apple'], 4822.0),\n ('violinist', ['magician', 'jeweler', 'fiddle'], 4708.0),\n ('pianist', ['magician', 'jeweler', 'fiddle'], 4583.0),\n ('expertly', ['blade', 'magician', 'fiddle'], 4370.0),\n ('spinning', ['blade', 'magician', 'fiddle'], 4211.0),\n ('talbots', ['chain', 'jeweler', 'apple'], 4081.0),\n ('performer', ['spot', 'record', 'magician'], 3984.0),\n ('virtuoso', ['magician', 'fiddle'], 3960.0),\n ('processor', ['blade', 'chain', 'apple'], 3930.0),\n ('hotel', ['spot', 'chain', 'jeweler'], 3917.0),\n ('swivel', ['spot', 'blade', 'fiddle'], 3826.0),\n ('painter', ['magician', 'jeweler'], 3799.0),\n ('percussionist', ['magician', 'fiddle'], 3747.0),\n ('grocer', ['chain', 'jeweler'], 3741.0),\n ('harpist', ['magician', 'jeweler', 'fiddle'], 3741.0),\n ('boutique', ['chain', 'jeweler'], 3737.0),\n ('vendor', ['chain', 'jeweler', 'apple'], 3709.0),\n ('lead', ['spot', 'record'], 3696.0)]"
     },
     "execution_count": 232,
     "metadata": {},
     "output_type": "execute_result"
    }
   ],
   "source": [
    "n = NishyBot2(good, bad, okay, assassin)\n",
    "\n",
    "s = set()\n",
    "for similar in n.good_similars:\n",
    "    for word in similar:\n",
    "        s.add(word)\n",
    "print(len(s))\n",
    "\n",
    "sc = n.score_all_pruned(s)\n",
    "[(x, n.good_matches(x), sc[x]) for x in list(sc.keys())][:20]"
   ],
   "metadata": {
    "collapsed": false,
    "ExecuteTime": {
     "end_time": "2023-12-31T10:03:03.526053700Z",
     "start_time": "2023-12-31T10:02:55.626187200Z"
    }
   },
   "id": "6e0e101fca9f0ee0",
   "execution_count": 232
  },
  {
   "cell_type": "code",
   "outputs": [
    {
     "data": {
      "text/plain": "0"
     },
     "execution_count": 224,
     "metadata": {},
     "output_type": "execute_result"
    }
   ],
   "source": [
    "NishyBot2.count_matches(n.bad_similars, 'spoiled')"
   ],
   "metadata": {
    "collapsed": false
   },
   "id": "3e1607b5e74a93b",
   "execution_count": 224
  },
  {
   "cell_type": "code",
   "outputs": [
    {
     "data": {
      "text/plain": "1"
     },
     "execution_count": 227,
     "metadata": {},
     "output_type": "execute_result"
    }
   ],
   "source": [
    "n.good_similars[good.index('cone')].index('encase')"
   ],
   "metadata": {
    "collapsed": false,
    "ExecuteTime": {
     "end_time": "2023-12-31T10:01:53.697365Z",
     "start_time": "2023-12-31T10:01:53.691761600Z"
    }
   },
   "id": "b4fcb10ec4c83799",
   "execution_count": 227
  },
  {
   "cell_type": "code",
   "outputs": [],
   "source": [],
   "metadata": {
    "collapsed": false
   },
   "id": "b8542a4d0b07b6e9"
  }
 ],
 "metadata": {
  "kernelspec": {
   "display_name": "Python 3",
   "language": "python",
   "name": "python3"
  },
  "language_info": {
   "codemirror_mode": {
    "name": "ipython",
    "version": 2
   },
   "file_extension": ".py",
   "mimetype": "text/x-python",
   "name": "python",
   "nbconvert_exporter": "python",
   "pygments_lexer": "ipython2",
   "version": "2.7.6"
  }
 },
 "nbformat": 4,
 "nbformat_minor": 5
}
