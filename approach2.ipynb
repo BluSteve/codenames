{
 "cells": [
  {
   "cell_type": "code",
   "execution_count": 7,
   "id": "initial_id",
   "metadata": {
    "collapsed": true,
    "ExecuteTime": {
     "end_time": "2023-12-31T12:00:35.968810500Z",
     "start_time": "2023-12-31T12:00:34.875244800Z"
    }
   },
   "outputs": [],
   "source": [
    "import gensim\n",
    "from nltk.corpus import wordnet as wn\n",
    "\n",
    "model = gensim.models.KeyedVectors.load_word2vec_format('gigaword-nocase-26.bin', binary=True)"
   ]
  },
  {
   "cell_type": "code",
   "outputs": [],
   "source": [
    "class NishyBot2:\n",
    "    TOP_N = 2000\n",
    "    SAMENESS_THRESHOLD = 0\n",
    "\n",
    "    def find_similars(words):\n",
    "        similars = []\n",
    "        for word in words:\n",
    "            try:\n",
    "                similars.append({x[0]:i for i, x in enumerate(model.most_similar(positive=[word], topn=NishyBot2.TOP_N))})\n",
    "            except KeyError:\n",
    "                similars.append([])\n",
    "                print('No similar words found for', word)\n",
    "        return similars\n",
    "\n",
    "    def count_matches(wordlists, test):\n",
    "        count = 0\n",
    "        for wordlist in wordlists:\n",
    "            if test in wordlist:\n",
    "                count += len(wordlist) - wordlist[test]\n",
    "        return count\n",
    "\n",
    "    def __init__(self, good, bad, okay, assassin):\n",
    "        self.good = good\n",
    "        self.bad = bad\n",
    "        self.okay = okay\n",
    "        self.assassin = assassin\n",
    "\n",
    "        self.good_similars = NishyBot2.find_similars(good)\n",
    "        self.bad_similars = NishyBot2.find_similars(bad)\n",
    "        self.okay_similars = NishyBot2.find_similars(okay)\n",
    "        self.assassin_similars = NishyBot2.find_similars(assassin)\n",
    "\n",
    "    def good_matches(self, test):\n",
    "        result = []\n",
    "        for i, similar in enumerate(self.good_similars):\n",
    "            if test in similar:\n",
    "                result.append(self.good[i])\n",
    "        return result\n",
    "\n",
    "    def score(self, test):\n",
    "        good_count = NishyBot2.count_matches(self.good_similars, test)\n",
    "        bad_count = NishyBot2.count_matches(self.bad_similars, test)\n",
    "        okay_count = NishyBot2.count_matches(self.okay_similars, test)\n",
    "        assassin_count = NishyBot2.count_matches(self.assassin_similars, test)\n",
    "\n",
    "        return good_count - bad_count - 0.5 * okay_count - 3 * assassin_count # maybe use a gan to optimize these parameters + TOP_N? not many things to optimize...\n",
    "\n",
    "    def score_all(self, wordset):\n",
    "        scores = [(x, self.score(x)) for x in wordset]\n",
    "        scores.sort(key=lambda x: x[1], reverse=True)\n",
    "        scores = dict(scores)\n",
    "        return scores\n",
    "\n",
    "    def score_all_pruned(self, wordset):\n",
    "        scores = self.score_all(wordset)\n",
    "        hints = list(scores.keys())\n",
    "\n",
    "        for i, hint in enumerate(hints):\n",
    "            if len(wn.synsets(hint)) == 0:  # if it's not a real word\n",
    "                if hint in scores:\n",
    "                    scores.pop(hint)\n",
    "            else:  # if it's too similar to an existing word\n",
    "                for word in self.good:\n",
    "                    if word in hint or hint in word:\n",
    "                        if hint in scores:\n",
    "                            scores.pop(hint)\n",
    "                            break\n",
    "\n",
    "        return scores\n"
   ],
   "metadata": {
    "collapsed": false,
    "ExecuteTime": {
     "end_time": "2023-12-31T12:00:35.978367100Z",
     "start_time": "2023-12-31T12:00:35.974314500Z"
    }
   },
   "id": "15c8a61806e0e419",
   "execution_count": 8
  },
  {
   "cell_type": "code",
   "outputs": [],
   "source": [
    "def pregame(good, bad, okay, assassin):\n",
    "    good2 = good.copy()\n",
    "    while len(good2) != 0:\n",
    "        n = NishyBot2(good2, bad, okay, assassin)\n",
    "\n",
    "        s = set()\n",
    "        for similar in n.good_similars:\n",
    "            for word in similar:\n",
    "                s.add(word)\n",
    "\n",
    "        sc = n.score_all_pruned(s)\n",
    "\n",
    "        hint = list(sc.keys())[0]\n",
    "        matches = n.good_matches(hint)\n",
    "        print(hint, matches)\n",
    "        good2 = list(filter(lambda x: x not in matches, good2))\n"
   ],
   "metadata": {
    "collapsed": false,
    "ExecuteTime": {
     "end_time": "2023-12-31T12:00:35.987385800Z",
     "start_time": "2023-12-31T12:00:35.979366600Z"
    }
   },
   "id": "d3f7ac99c52a128c",
   "execution_count": 9
  },
  {
   "cell_type": "code",
   "outputs": [],
   "source": [
    "# good = 'sack makeup bottle cuckoo cast cone jockey America'.lower().split(' ')\n",
    "# bad = 'nut Russia fog break spider bear rip tube plane'.lower().split(' ')\n",
    "# okay = 'Christmas pool Beijing trip nyc fever peanut'.lower().split(' ')\n",
    "# assassin = 'link'.lower().split(' ')\n",
    "\n",
    "# good = 'spot,blade,chain,record,magician,jeweler,fiddle,apple'.lower().split(',')\n",
    "# bad = 'wonderland,Newton,glacier,pig,spy,lead,mess,duck,stable'.lower().split(',')\n",
    "# okay = 'India,millionaire,rainbow,razor,bridge,polo,Notre,Dame'.lower().split(',')\n",
    "# assassin = 'ice,cream'.lower().split(',')\n",
    "\n",
    "good = ['giant', 'thumb', 'nail', 'lock','plane', 'ship','cell','state', 'capital']\n",
    "bad = ['aztec', 'court','chocolate','space','snow']\n",
    "okay = ['shop','genius','ambulance','button','heart','pupil','vet']\n",
    "assassin = ['microscope']"
   ],
   "metadata": {
    "collapsed": false,
    "ExecuteTime": {
     "end_time": "2023-12-31T12:00:37.267114500Z",
     "start_time": "2023-12-31T12:00:37.260077400Z"
    }
   },
   "id": "e4aee83445073875",
   "execution_count": 10
  },
  {
   "cell_type": "code",
   "outputs": [
    {
     "name": "stdout",
     "output_type": "stream",
     "text": [
      "stick ['thumb', 'nail', 'lock']\n",
      "nation ['giant', 'state', 'capital']\n",
      "freighter ['plane', 'ship']\n",
      "phone ['cell']\n"
     ]
    }
   ],
   "source": [
    "pregame(good, bad, okay, assassin)\n"
   ],
   "metadata": {
    "collapsed": false,
    "ExecuteTime": {
     "end_time": "2023-12-31T12:00:39.093223100Z",
     "start_time": "2023-12-31T12:00:37.773971800Z"
    }
   },
   "id": "58a06603cade8335",
   "execution_count": 11
  },
  {
   "cell_type": "code",
   "outputs": [
    {
     "name": "stdout",
     "output_type": "stream",
     "text": [
      "15732\n"
     ]
    },
    {
     "data": {
      "text/plain": "[('stick', ['thumb', 'nail', 'lock'], 5482.5),\n ('meanwhile', ['giant', 'lock', 'state', 'capital'], 5445.0),\n ('nation', ['giant', 'state', 'capital'], 5351.0),\n ('seal', ['giant', 'nail', 'lock'], 5201.0),\n ('hold', ['lock', 'state', 'capital'], 5124.0),\n ('loose', ['thumb', 'nail', 'lock'], 5030.0),\n ('apparently', ['nail', 'lock', 'plane', 'ship', 'cell', 'capital'], 5024.0),\n ('hand', ['giant', 'thumb', 'nail', 'lock', 'capital'], 4888.5),\n ('bruise', ['thumb', 'nail', 'lock'], 4815.0),\n ('already', ['giant', 'state', 'capital'], 4747.0),\n ('boot', ['thumb', 'nail', 'lock'], 4692.5),\n ('saw', ['thumb', 'nail', 'lock'], 4587.0),\n ('bank', ['giant', 'state', 'capital'], 4361.0),\n ('punch', ['thumb', 'nail', 'lock'], 4293.0),\n ('grab', ['thumb', 'nail', 'lock'], 4151.0),\n ('yank', ['thumb', 'nail', 'lock'], 4137.0),\n ('instead', ['giant', 'thumb', 'lock', 'state', 'capital'], 4113.5),\n ('propellor', ['thumb', 'plane', 'ship'], 4105.0),\n ('clutch', ['thumb', 'nail', 'lock'], 4074.5),\n ('tuck', ['thumb', 'nail', 'lock'], 4060.0)]"
     },
     "execution_count": 12,
     "metadata": {},
     "output_type": "execute_result"
    }
   ],
   "source": [
    "n = NishyBot2(good, bad, okay, assassin)\n",
    "\n",
    "s = set()\n",
    "for similar in n.good_similars:\n",
    "    for word in similar:\n",
    "        s.add(word)\n",
    "print(len(s))\n",
    "\n",
    "sc = n.score_all_pruned(s)\n",
    "[(x, n.good_matches(x), sc[x]) for x in list(sc.keys())][:20]"
   ],
   "metadata": {
    "collapsed": false,
    "ExecuteTime": {
     "end_time": "2023-12-31T12:00:48.785703Z",
     "start_time": "2023-12-31T12:00:48.231820200Z"
    }
   },
   "id": "6e0e101fca9f0ee0",
   "execution_count": 12
  },
  {
   "cell_type": "code",
   "outputs": [
    {
     "data": {
      "text/plain": "{'hand'}"
     },
     "execution_count": 101,
     "metadata": {},
     "output_type": "execute_result"
    }
   ],
   "source": [
    "s = set()\n",
    "for similar in n.good_similars:\n",
    "    for word in similar:\n",
    "        s.add(word)\n",
    "\n",
    "set(n.good_similars[1].keys()).intersection(set(n.good_similars[2].keys())).intersection(set(n.good_similars[8].keys()))"
   ],
   "metadata": {
    "collapsed": false,
    "ExecuteTime": {
     "end_time": "2023-12-31T11:25:49.210676600Z",
     "start_time": "2023-12-31T11:25:49.203584300Z"
    }
   },
   "id": "b5e4859b13ae9d96",
   "execution_count": 101
  },
  {
   "cell_type": "code",
   "outputs": [
    {
     "name": "stdout",
     "output_type": "stream",
     "text": [
      "100\n",
      "virtuoso ['magician', 'fiddle']\n",
      "store ['chain']\n",
      "jeweller ['jeweler']\n",
      "berth ['spot']\n",
      "history ['record']\n",
      "curved ['blade']\n",
      "ipod ['apple']\n",
      "\n",
      "500\n",
      "virtuoso ['magician', 'fiddle']\n",
      "store ['chain', 'jeweler']\n",
      "season ['spot', 'record']\n",
      "mower ['blade']\n",
      "ipod ['apple']\n",
      "\n",
      "1000\n",
      "musician ['magician', 'jeweler', 'fiddle']\n",
      "lead ['spot', 'record']\n",
      "talbots ['chain', 'apple']\n",
      "rotor ['blade']\n",
      "\n",
      "2000\n",
      "musician ['magician', 'jeweler', 'fiddle']\n",
      "processor ['blade', 'chain', 'apple']\n",
      "lead ['spot', 'record']\n",
      "\n",
      "3000\n",
      "store ['chain', 'jeweler', 'apple']\n",
      "expertly ['blade', 'magician', 'fiddle']\n",
      "lead ['spot', 'record']\n",
      "\n",
      "5000\n",
      "store ['chain', 'jeweler', 'apple']\n",
      "spinning ['spot', 'blade', 'magician', 'fiddle']\n",
      "all-time ['record']\n"
     ]
    }
   ],
   "source": [
    "ns = [100,500,1000,2000,3000,5000]\n",
    "for n in ns:\n",
    "    print(n)\n",
    "    NishyBot2.TOP_N = n\n",
    "    pregame(good, bad, okay, assassin)\n",
    "    print()"
   ],
   "metadata": {
    "collapsed": false,
    "ExecuteTime": {
     "end_time": "2023-12-31T11:14:06.515715200Z",
     "start_time": "2023-12-31T11:13:59.531289100Z"
    }
   },
   "id": "36c197a22473ed44",
   "execution_count": 74
  },
  {
   "cell_type": "code",
   "outputs": [
    {
     "data": {
      "text/plain": "0"
     },
     "execution_count": 224,
     "metadata": {},
     "output_type": "execute_result"
    }
   ],
   "source": [
    "NishyBot2.count_matches(n.bad_similars, 'spoiled')"
   ],
   "metadata": {
    "collapsed": false
   },
   "id": "3e1607b5e74a93b",
   "execution_count": 224
  },
  {
   "cell_type": "code",
   "outputs": [
    {
     "data": {
      "text/plain": "1"
     },
     "execution_count": 227,
     "metadata": {},
     "output_type": "execute_result"
    }
   ],
   "source": [
    "n.good_similars[good.index('cone')].index('encase')"
   ],
   "metadata": {
    "collapsed": false,
    "ExecuteTime": {
     "end_time": "2023-12-31T10:01:53.697365Z",
     "start_time": "2023-12-31T10:01:53.691761600Z"
    }
   },
   "id": "b4fcb10ec4c83799",
   "execution_count": 227
  },
  {
   "cell_type": "code",
   "outputs": [],
   "source": [],
   "metadata": {
    "collapsed": false
   },
   "id": "c774ccd1ddd24926"
  }
 ],
 "metadata": {
  "kernelspec": {
   "display_name": "Python 3",
   "language": "python",
   "name": "python3"
  },
  "language_info": {
   "codemirror_mode": {
    "name": "ipython",
    "version": 2
   },
   "file_extension": ".py",
   "mimetype": "text/x-python",
   "name": "python",
   "nbconvert_exporter": "python",
   "pygments_lexer": "ipython2",
   "version": "2.7.6"
  }
 },
 "nbformat": 4,
 "nbformat_minor": 5
}
