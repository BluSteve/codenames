{
 "cells": [
  {
   "cell_type": "code",
   "execution_count": 26,
   "id": "initial_id",
   "metadata": {
    "collapsed": true,
    "ExecuteTime": {
     "end_time": "2023-12-29T10:06:08.222437200Z",
     "start_time": "2023-12-29T10:06:01.879101500Z"
    }
   },
   "outputs": [],
   "source": [
    "\n",
    "import gensim\n",
    "from nltk.data import find\n",
    "from nltk.metrics.distance import edit_distance\n",
    "\n",
    "word2vec_sample = str(find('models/word2vec_sample/pruned.word2vec.txt'))\n",
    "model = gensim.models.KeyedVectors.load_word2vec_format(word2vec_sample, binary=False)"
   ]
  },
  {
   "cell_type": "code",
   "outputs": [],
   "source": [
    "good = ['millionaire', 'agent', 'paper', 'lace', 'oil', 'flood', 'telescope', 'window', 'fiddle']\n",
    "bad = ['soup', 'arm', 'drum', 'bowl', 'memory', 'school', 'luck', 'plastic']\n",
    "okay = ['root', 'bowler', 'maracas', 'second', 'bacon', 'tutu', 'kid']\n",
    "assassin = ['match']"
   ],
   "metadata": {
    "collapsed": false,
    "ExecuteTime": {
     "end_time": "2023-12-29T09:56:38.794836300Z",
     "start_time": "2023-12-29T09:56:38.787801300Z"
    }
   },
   "id": "5fb5be1c170d811c",
   "execution_count": 17
  },
  {
   "cell_type": "code",
   "outputs": [
    {
     "data": {
      "text/plain": "[('multimillionaire', 0.2880403995513916),\n ('agents', 0.27311012148857117),\n ('appraise', 0.24996958673000336),\n ('millionaires', 0.24939695000648499),\n ('painter', 0.2443416863679886),\n ('gloomily', 0.24415557086467743),\n ('dilettante', 0.2424042969942093),\n ('property', 0.24002386629581451),\n ('financier', 0.23953421413898468),\n ('industrialist', 0.2389102429151535)]"
     },
     "execution_count": 21,
     "metadata": {},
     "output_type": "execute_result"
    }
   ],
   "source": [
    "model.most_similar(positive=good, negative=bad)  # baseline, very bad\n"
   ],
   "metadata": {
    "collapsed": false,
    "ExecuteTime": {
     "end_time": "2023-12-29T10:02:59.095099Z",
     "start_time": "2023-12-29T10:02:59.088117800Z"
    }
   },
   "id": "c00576209c4083c3",
   "execution_count": 21
  },
  {
   "cell_type": "code",
   "outputs": [
    {
     "name": "stdout",
     "output_type": "stream",
     "text": [
      "['tycoon', 'businessman', 'wealthy']\n",
      "['broker', 'realtor']\n",
      "['newspaper', 'printed', 'print']\n",
      "['satin', 'dresses', 'tulle', 'sequins']\n",
      "['petroleum', 'gas', 'crude', 'hydrocarbon']\n",
      "['flooding', 'deluge']\n",
      "['interferometer', 'astronomy', 'spectrometer', 'spacecraft']\n",
      "['door', 'doorway', 'windshield', 'doors']\n",
      "['banjo', 'flute', 'violin', 'harp']\n"
     ]
    },
    {
     "data": {
      "text/plain": "[None, None, None, None, None, None, None, None, None]"
     },
     "execution_count": 44,
     "metadata": {},
     "output_type": "execute_result"
    }
   ],
   "source": [
    "def get_hints(word):\n",
    "    hints = [x[0] for x in model.most_similar(positive=[word], topn=5)]\n",
    "    leven = [edit_distance(x, word) for x in hints]\n",
    "    \n",
    "    SAMENESS_THRESHOLD = 0.5\n",
    "    finalhints = []\n",
    "    for i in range(len(hints)):\n",
    "        if (leven[i] / len(word) > SAMENESS_THRESHOLD):\n",
    "            finalhints.append(hints[i])\n",
    "    \n",
    "    return finalhints\n",
    "\n",
    "[print(get_hints(x)) for x in good]"
   ],
   "metadata": {
    "collapsed": false,
    "ExecuteTime": {
     "end_time": "2023-12-29T10:14:19.102567700Z",
     "start_time": "2023-12-29T10:14:19.065807900Z"
    }
   },
   "id": "4c245401318485fc",
   "execution_count": 44
  },
  {
   "cell_type": "code",
   "outputs": [],
   "source": [],
   "metadata": {
    "collapsed": false,
    "ExecuteTime": {
     "end_time": "2023-12-29T09:56:07.360621900Z",
     "start_time": "2023-12-29T09:56:07.356107100Z"
    }
   },
   "id": "1ffa47f55a0424fb",
   "execution_count": 14
  },
  {
   "cell_type": "code",
   "outputs": [],
   "source": [
    "\n"
   ],
   "metadata": {
    "collapsed": false
   },
   "id": "e0c4c63245f5d084"
  }
 ],
 "metadata": {
  "kernelspec": {
   "display_name": "Python 3",
   "language": "python",
   "name": "python3"
  },
  "language_info": {
   "codemirror_mode": {
    "name": "ipython",
    "version": 2
   },
   "file_extension": ".py",
   "mimetype": "text/x-python",
   "name": "python",
   "nbconvert_exporter": "python",
   "pygments_lexer": "ipython2",
   "version": "2.7.6"
  }
 },
 "nbformat": 4,
 "nbformat_minor": 5
}
