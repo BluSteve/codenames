{
 "cells": [
  {
   "cell_type": "code",
   "execution_count": null,
   "id": "initial_id",
   "metadata": {
    "collapsed": true,
    "is_executing": true,
    "ExecuteTime": {
     "start_time": "2023-12-29T12:24:10.283822800Z"
    }
   },
   "outputs": [
    {
     "name": "stdout",
     "output_type": "stream",
     "text": [
      "Synset('pitch.n.01')\n",
      "Synset('fire.n.01')\n"
     ]
    }
   ],
   "source": [
    "import nishy\n",
    "import importlib\n",
    "importlib.reload(nishy)\n",
    "\n",
    "good = ['pitch', 'vet', 'water','fire','india','ball','worm','helmet','frost']\n",
    "bad = ['roulette','london','tokyo','lip','golf','hole','ninja','spell']\n",
    "okay = ['bride','pig','quarter','tag','ant','sugar','saloon']\n",
    "assassin = ['knot']\n",
    "\n",
    "n = nishy.NishyBot(good,bad,okay,assassin)\n",
    "print(n.get_hints())"
   ]
  },
  {
   "cell_type": "code",
   "outputs": [],
   "source": [],
   "metadata": {
    "collapsed": false
   },
   "id": "d6b59bb9dba90e54"
  }
 ],
 "metadata": {
  "kernelspec": {
   "display_name": "Python 3",
   "language": "python",
   "name": "python3"
  },
  "language_info": {
   "codemirror_mode": {
    "name": "ipython",
    "version": 2
   },
   "file_extension": ".py",
   "mimetype": "text/x-python",
   "name": "python",
   "nbconvert_exporter": "python",
   "pygments_lexer": "ipython2",
   "version": "2.7.6"
  }
 },
 "nbformat": 4,
 "nbformat_minor": 5
}
