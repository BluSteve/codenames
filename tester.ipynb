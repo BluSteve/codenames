{
 "cells": [
  {
   "cell_type": "code",
   "execution_count": 66,
   "id": "initial_id",
   "metadata": {
    "collapsed": true,
    "ExecuteTime": {
     "end_time": "2023-12-29T14:28:29.257805800Z",
     "start_time": "2023-12-29T14:28:22.913129800Z"
    }
   },
   "outputs": [],
   "source": [
    "import nishy\n",
    "import importlib\n",
    "importlib.reload(nishy)\n",
    "\n",
    "good = ['pitch', 'vet', 'water','fire','india','ball','worm','helmet','frost']\n",
    "bad = ['roulette','london','tokyo','lip','golf','hole','ninja','spell']\n",
    "okay = ['bride','pig','quarter','tag','ant','sugar','saloon']\n",
    "assassin = ['knot']\n",
    "\n",
    "n = nishy.NishyBot(good,bad,okay,assassin)\n"
   ]
  },
  {
   "cell_type": "code",
   "outputs": [
    {
     "data": {
      "text/plain": "['aerates',\n 'rightfield',\n 'cleat',\n 'shin',\n 'watering',\n 'lob',\n 'hose',\n 'insects',\n 'caterpillar',\n 'parasites',\n 'larvae',\n 'windshield',\n 'blaze',\n 'Dog',\n 'snake',\n 'scrimmage',\n 'cat',\n 'bobbles',\n 'fox',\n 'sand',\n 'malicious',\n 'chopper',\n 'ambulance',\n 'lake',\n 'aerator',\n 'infestations',\n 'irrigation',\n 'grassfire',\n 'moisture',\n 'algaecide',\n 'flames',\n 'faucet',\n 'bug',\n 'umpire',\n 'beetles',\n 'reservoir',\n 'veterinary',\n 'rain',\n 'bacteria',\n 'dog',\n 'knee',\n 'lakes',\n 'vegetation',\n 'infield',\n 'ice',\n 'sediment',\n 'arson',\n 'flooding',\n 'pups',\n 'mulch',\n 'bugs',\n 'dry',\n 'reservoirs',\n 'spider',\n 'forearm',\n 'elbow',\n 'dew',\n 'pest',\n 'rainfall',\n 'bunt',\n 'gloves',\n 'fielders',\n 'concussion',\n 'dogs',\n 'mosquitoes',\n 'inferno',\n 'knuckleball',\n 'game',\n 'lightning',\n 'grass',\n 'pickoff',\n 'squirrel',\n 'extinguished',\n 'ground',\n 'downpour',\n 'brushfire',\n 'chilblains',\n 'sewage',\n 'rains',\n 'flicked',\n 'insect',\n 'fleas',\n 'infestation',\n 'borer',\n 'rainless',\n 'bat',\n 'sun',\n 'burrs',\n 'kitten',\n 'pooched',\n 'parasite',\n 'glove',\n 'pads',\n 'caterpillars',\n 'grounder',\n 'effluent',\n 'skiddy',\n 'offensively',\n 'doctor',\n 'drinking',\n 'inning',\n 'sideline',\n 'pup',\n 'irrigate',\n 'keeper',\n 'fireman',\n 'snow',\n 'pests',\n 'shute',\n 'rim',\n 'creek',\n 'jacket',\n 'wasp',\n 'extinguish',\n 'moth',\n 'fungus',\n 'dribbled',\n 'forefeet',\n 'field',\n 'debris',\n 'mask',\n 'wetness',\n 'heat',\n 'veterinarian',\n 'mound',\n 'veterinarians',\n 'rivers',\n 'paws',\n 'puppy',\n 'virus',\n 'fish',\n 'cleanly',\n 'critter',\n 'Virus',\n 'dugout',\n 'pavement',\n 'firemen',\n 'goggles',\n 'hackers',\n 'snowfall',\n 'bird',\n 'river',\n 'cannon',\n 'mosquito',\n 'outfield',\n 'wastewater',\n 'jersey',\n 'rhinotracheitis',\n 'algae',\n 'hoses',\n 'crazing',\n 'maggots',\n 'snows',\n 'footwork',\n 'turtle']"
     },
     "execution_count": 38,
     "metadata": {},
     "output_type": "execute_result"
    }
   ],
   "source": [
    "n.get_similar_hints()"
   ],
   "metadata": {
    "collapsed": false,
    "ExecuteTime": {
     "end_time": "2023-12-29T14:14:35.284903800Z",
     "start_time": "2023-12-29T14:14:34.831897Z"
    }
   },
   "id": "d6b59bb9dba90e54",
   "execution_count": 38
  },
  {
   "cell_type": "code",
   "outputs": [
    {
     "name": "stdout",
     "output_type": "stream",
     "text": [
      "151 151 8836 8836\n",
      "Synset('water.n.01')\n",
      "Synset('ball.n.01')\n",
      "Synset('worm.n.01')\n",
      "Synset('helmet.n.01')\n"
     ]
    }
   ],
   "source": [
    "hints = n.get_hints(20)"
   ],
   "metadata": {
    "collapsed": false,
    "ExecuteTime": {
     "end_time": "2023-12-29T14:24:54.233137400Z",
     "start_time": "2023-12-29T14:24:38.154126700Z"
    }
   },
   "id": "a9a56b50235c8e28",
   "execution_count": 60
  },
  {
   "cell_type": "code",
   "outputs": [
    {
     "data": {
      "text/plain": "[('veterinary', 1, 1.282641013097669),\n ('softball', 1, 0.3126056562976066),\n ('doctor', 1, 0.23428126311253222),\n ('grassfire', 1, -0.02677820545467613),\n ('surgeon', 1, -0.050692320235663724),\n ('huntington', 1, -0.050692320235663724),\n ('gp', 1, -0.050692320235663724),\n ('bass', 1, -0.08377676245323329),\n ('crossword', 1, -0.24965016493654307),\n ('dentists', 1, -0.2657187368874678),\n ('setup', 1, -0.27846818214465285),\n ('recorder', 1, -0.27846818214465285),\n ('satellite', 1, -0.27846818214465285),\n ('ice', 2, 0.1373889998890001),\n ('bruce', 2, -0.1551817463582169),\n ('shield', 2, -0.2284681821446528),\n ('happening', 2, -0.24548455930034918),\n ('crystal', 2, -0.2557432763315115),\n ('equipment', 3, -0.16771186330009874),\n ('harvey', 3, -0.3016663891663891)]"
     },
     "execution_count": 61,
     "metadata": {},
     "output_type": "execute_result"
    }
   ],
   "source": [
    "hints.sort(key=lambda x:x[1], reverse=true)[:3]\n",
    "hints"
   ],
   "metadata": {
    "collapsed": false,
    "ExecuteTime": {
     "end_time": "2023-12-29T14:24:54.238054Z",
     "start_time": "2023-12-29T14:24:54.234136500Z"
    }
   },
   "id": "a8dd456f3a09e618",
   "execution_count": 61
  },
  {
   "cell_type": "code",
   "outputs": [
    {
     "name": "stdout",
     "output_type": "stream",
     "text": [
      "151 151 8836 8836\n"
     ]
    },
    {
     "data": {
      "text/plain": "[('equipment', 3, -0.16771186330009874),\n ('harvey', 3, -0.3016663891663891),\n ('ice', 2, 0.1373889998890001)]"
     },
     "execution_count": 67,
     "metadata": {},
     "output_type": "execute_result"
    }
   ],
   "source": [
    "n.get_shortlist()"
   ],
   "metadata": {
    "collapsed": false,
    "ExecuteTime": {
     "end_time": "2023-12-29T14:28:46.359789700Z",
     "start_time": "2023-12-29T14:28:29.259806200Z"
    }
   },
   "id": "bf7f0ee3978cc50a",
   "execution_count": 67
  },
  {
   "cell_type": "code",
   "outputs": [],
   "source": [],
   "metadata": {
    "collapsed": false
   },
   "id": "eaf1fc766f91c0cf"
  }
 ],
 "metadata": {
  "kernelspec": {
   "display_name": "Python 3",
   "language": "python",
   "name": "python3"
  },
  "language_info": {
   "codemirror_mode": {
    "name": "ipython",
    "version": 2
   },
   "file_extension": ".py",
   "mimetype": "text/x-python",
   "name": "python",
   "nbconvert_exporter": "python",
   "pygments_lexer": "ipython2",
   "version": "2.7.6"
  }
 },
 "nbformat": 4,
 "nbformat_minor": 5
}
