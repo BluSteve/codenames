{
 "cells": [
  {
   "cell_type": "code",
   "outputs": [],
   "source": [
    "import requests\n",
    "import json"
   ],
   "metadata": {
    "collapsed": false,
    "ExecuteTime": {
     "end_time": "2024-01-04T02:04:54.288621900Z",
     "start_time": "2024-01-04T02:04:54.270695200Z"
    }
   },
   "id": "1addff64f63369af",
   "execution_count": 24
  },
  {
   "cell_type": "code",
   "outputs": [],
   "source": [
    "\n",
    "\n",
    "url = 'https://lobby.codenames.game/room/fighter-worm-shadow/join'\n",
    "data = {'nickname':'bot'}\n",
    "r = requests.post(url,data)\n"
   ],
   "metadata": {
    "collapsed": true,
    "ExecuteTime": {
     "end_time": "2024-01-04T01:43:27.314061600Z",
     "start_time": "2024-01-04T01:43:25.334798700Z"
    }
   },
   "id": "initial_id",
   "execution_count": 3
  },
  {
   "cell_type": "code",
   "outputs": [
    {
     "data": {
      "text/plain": "{'room': {'roomID': 'fighter-worm-shadow',\n  'playerID': 5,\n  'credentials': 'n5LqdptS_',\n  'serverURL': 'https://gameservers-eu.codenames.game/0'}}"
     },
     "execution_count": 4,
     "metadata": {},
     "output_type": "execute_result"
    }
   ],
   "source": [
    "r.json()"
   ],
   "metadata": {
    "collapsed": false,
    "ExecuteTime": {
     "end_time": "2024-01-04T01:43:28.840171600Z",
     "start_time": "2024-01-04T01:43:28.806761Z"
    }
   },
   "id": "b37b682982cecb77",
   "execution_count": 4
  },
  {
   "cell_type": "code",
   "outputs": [
    {
     "data": {
      "text/plain": "'{\"code\":1,\"message\":\"Session ID unknown\"}'"
     },
     "execution_count": 10,
     "metadata": {},
     "output_type": "execute_result"
    }
   ],
   "source": [
    "g = requests.get(url='https://gameservers-eu.codenames.game/0/socket.io/',\n",
    "                 params={'transport':'polling',\n",
    "                         'EIO':3,\n",
    "                         'sid':'NTU7KlFyqQT5a_QZGuK1'})\n",
    "g.text"
   ],
   "metadata": {
    "collapsed": false,
    "ExecuteTime": {
     "end_time": "2024-01-04T01:51:57.198694500Z",
     "start_time": "2024-01-04T01:51:55.240894700Z"
    }
   },
   "id": "48e2a78583ae1971",
   "execution_count": 10
  },
  {
   "cell_type": "code",
   "outputs": [
    {
     "data": {
      "text/plain": "'sjkJT5dDR88u8Ze-GubV'"
     },
     "execution_count": 28,
     "metadata": {},
     "output_type": "execute_result"
    }
   ],
   "source": [
    "g = requests.get(url='https://gameservers-eu.codenames.game/0/socket.io/',\n",
    "                 params={'transport':'polling',\n",
    "                         'EIO':3})\n",
    "sid = json.loads(g.text[4:-4])['sid']\n",
    "sid"
   ],
   "metadata": {
    "collapsed": false,
    "ExecuteTime": {
     "end_time": "2024-01-04T02:05:46.155794700Z",
     "start_time": "2024-01-04T02:05:44.566499900Z"
    }
   },
   "id": "fd690f3bd70a4585",
   "execution_count": 28
  },
  {
   "cell_type": "code",
   "outputs": [
    {
     "name": "stdout",
     "output_type": "stream",
     "text": [
      "USgz60An2iq8Bd92GurZ\n"
     ]
    },
    {
     "data": {
      "text/plain": "'1:1'"
     },
     "execution_count": 35,
     "metadata": {},
     "output_type": "execute_result"
    }
   ],
   "source": [
    "getse = requests.session()\n",
    "getse.cookies.update(requests.utils.cookiejar_from_dict({'io':'Vj9N7mXU5VeLWb_TGugk'}))\n",
    "g=    getse.get(url='https://gameservers-eu.codenames.game/0/socket.io/',\n",
    "                 params={'transport':'polling',\n",
    "                         'EIO':3})\n",
    "sid = json.loads(g.text[4:-4])['sid']\n",
    "print(sid)\n",
    "\n",
    "session = requests.session()\n",
    "session.cookies.update(requests.utils.cookiejar_from_dict({'io':sid}))\n",
    "session.get(url='https://gameservers-eu.codenames.game/0/socket.io/',\n",
    "params={'transport':'polling',\n",
    "        'EIO':3,\"sid\":sid,'t':'OpIC6h2'}).text\n"
   ],
   "metadata": {
    "collapsed": false,
    "ExecuteTime": {
     "end_time": "2024-01-04T02:21:45.869717100Z",
     "start_time": "2024-01-04T02:21:04.121244Z"
    }
   },
   "id": "f4780950206d4d93",
   "execution_count": 35
  },
  {
   "cell_type": "code",
   "outputs": [
    {
     "name": "stdout",
     "output_type": "stream",
     "text": [
      "8Tgr7kFVoA2HvYdeGueZ 8Tgr7kFVoA2HvYdeGueZ\n"
     ]
    }
   ],
   "source": [
    "g = requests.get(url='https://gameservers-eu.codenames.game/0/socket.io/',\n",
    "                 params={'transport':'polling',\n",
    "                         'EIO':3})\n",
    "sid = json.loads(g.text[4:-4])['sid']\n",
    "io = requests.utils.dict_from_cookiejar(g.cookies)['io']\n",
    "print(sid,io)"
   ],
   "metadata": {
    "collapsed": false,
    "ExecuteTime": {
     "end_time": "2024-01-04T02:09:00.474480400Z",
     "start_time": "2024-01-04T02:08:58.899500100Z"
    }
   },
   "id": "c3811ed4adee721f",
   "execution_count": 32
  },
  {
   "cell_type": "code",
   "outputs": [
    {
     "ename": "ConnectionError",
     "evalue": "OPEN packet not returned by server",
     "output_type": "error",
     "traceback": [
      "\u001B[1;31m---------------------------------------------------------------------------\u001B[0m",
      "\u001B[1;31mConnectionError\u001B[0m                           Traceback (most recent call last)",
      "Cell \u001B[1;32mIn[41], line 4\u001B[0m\n\u001B[0;32m      1\u001B[0m \u001B[38;5;28;01mimport\u001B[39;00m \u001B[38;5;21;01msocketio\u001B[39;00m\n\u001B[0;32m      2\u001B[0m sio \u001B[38;5;241m=\u001B[39m socketio\u001B[38;5;241m.\u001B[39mSimpleClient()\n\u001B[1;32m----> 4\u001B[0m \u001B[43msio\u001B[49m\u001B[38;5;241;43m.\u001B[39;49m\u001B[43mconnect\u001B[49m\u001B[43m(\u001B[49m\u001B[38;5;124;43m'\u001B[39;49m\u001B[38;5;124;43mhttps://gameservers-eu.codenames.game\u001B[39;49m\u001B[38;5;124;43m'\u001B[39;49m\u001B[43m,\u001B[49m\u001B[43msocketio_path\u001B[49m\u001B[38;5;241;43m=\u001B[39;49m\u001B[38;5;124;43m'\u001B[39;49m\u001B[38;5;124;43m/0/socket.io/\u001B[39;49m\u001B[38;5;124;43m'\u001B[39;49m\u001B[43m)\u001B[49m\n",
      "File \u001B[1;32m~\\IdeaProjects\\codenames\\venv\\Lib\\site-packages\\socketio\\simple_client.py:82\u001B[0m, in \u001B[0;36mSimpleClient.connect\u001B[1;34m(self, url, headers, auth, transports, namespace, socketio_path, wait_timeout)\u001B[0m\n\u001B[0;32m     79\u001B[0m     \u001B[38;5;28mself\u001B[39m\u001B[38;5;241m.\u001B[39minput_buffer\u001B[38;5;241m.\u001B[39mappend([event, \u001B[38;5;241m*\u001B[39margs])\n\u001B[0;32m     80\u001B[0m     \u001B[38;5;28mself\u001B[39m\u001B[38;5;241m.\u001B[39minput_event\u001B[38;5;241m.\u001B[39mset()\n\u001B[1;32m---> 82\u001B[0m \u001B[38;5;28;43mself\u001B[39;49m\u001B[38;5;241;43m.\u001B[39;49m\u001B[43mclient\u001B[49m\u001B[38;5;241;43m.\u001B[39;49m\u001B[43mconnect\u001B[49m\u001B[43m(\u001B[49m\u001B[43murl\u001B[49m\u001B[43m,\u001B[49m\u001B[43m \u001B[49m\u001B[43mheaders\u001B[49m\u001B[38;5;241;43m=\u001B[39;49m\u001B[43mheaders\u001B[49m\u001B[43m,\u001B[49m\u001B[43m \u001B[49m\u001B[43mauth\u001B[49m\u001B[38;5;241;43m=\u001B[39;49m\u001B[43mauth\u001B[49m\u001B[43m,\u001B[49m\n\u001B[0;32m     83\u001B[0m \u001B[43m                    \u001B[49m\u001B[43mtransports\u001B[49m\u001B[38;5;241;43m=\u001B[39;49m\u001B[43mtransports\u001B[49m\u001B[43m,\u001B[49m\u001B[43m \u001B[49m\u001B[43mnamespaces\u001B[49m\u001B[38;5;241;43m=\u001B[39;49m\u001B[43m[\u001B[49m\u001B[43mnamespace\u001B[49m\u001B[43m]\u001B[49m\u001B[43m,\u001B[49m\n\u001B[0;32m     84\u001B[0m \u001B[43m                    \u001B[49m\u001B[43msocketio_path\u001B[49m\u001B[38;5;241;43m=\u001B[39;49m\u001B[43msocketio_path\u001B[49m\u001B[43m,\u001B[49m\n\u001B[0;32m     85\u001B[0m \u001B[43m                    \u001B[49m\u001B[43mwait_timeout\u001B[49m\u001B[38;5;241;43m=\u001B[39;49m\u001B[43mwait_timeout\u001B[49m\u001B[43m)\u001B[49m\n",
      "File \u001B[1;32m~\\IdeaProjects\\codenames\\venv\\Lib\\site-packages\\socketio\\client.py:148\u001B[0m, in \u001B[0;36mClient.connect\u001B[1;34m(self, url, headers, auth, transports, namespaces, socketio_path, wait, wait_timeout)\u001B[0m\n\u001B[0;32m    144\u001B[0m     \u001B[38;5;28;01mfor\u001B[39;00m n \u001B[38;5;129;01min\u001B[39;00m \u001B[38;5;28mself\u001B[39m\u001B[38;5;241m.\u001B[39mconnection_namespaces:\n\u001B[0;32m    145\u001B[0m         \u001B[38;5;28mself\u001B[39m\u001B[38;5;241m.\u001B[39m_trigger_event(\n\u001B[0;32m    146\u001B[0m             \u001B[38;5;124m'\u001B[39m\u001B[38;5;124mconnect_error\u001B[39m\u001B[38;5;124m'\u001B[39m, n,\n\u001B[0;32m    147\u001B[0m             exc\u001B[38;5;241m.\u001B[39margs[\u001B[38;5;241m1\u001B[39m] \u001B[38;5;28;01mif\u001B[39;00m \u001B[38;5;28mlen\u001B[39m(exc\u001B[38;5;241m.\u001B[39margs) \u001B[38;5;241m>\u001B[39m \u001B[38;5;241m1\u001B[39m \u001B[38;5;28;01melse\u001B[39;00m exc\u001B[38;5;241m.\u001B[39margs[\u001B[38;5;241m0\u001B[39m])\n\u001B[1;32m--> 148\u001B[0m     \u001B[38;5;28;01mraise\u001B[39;00m exceptions\u001B[38;5;241m.\u001B[39mConnectionError(exc\u001B[38;5;241m.\u001B[39margs[\u001B[38;5;241m0\u001B[39m]) \u001B[38;5;28;01mfrom\u001B[39;00m \u001B[38;5;28;01mNone\u001B[39;00m\n\u001B[0;32m    150\u001B[0m \u001B[38;5;28;01mif\u001B[39;00m wait:\n\u001B[0;32m    151\u001B[0m     \u001B[38;5;28;01mwhile\u001B[39;00m \u001B[38;5;28mself\u001B[39m\u001B[38;5;241m.\u001B[39m_connect_event\u001B[38;5;241m.\u001B[39mwait(timeout\u001B[38;5;241m=\u001B[39mwait_timeout):\n",
      "\u001B[1;31mConnectionError\u001B[0m: OPEN packet not returned by server"
     ]
    }
   ],
   "source": [
    "import socketio\n",
    "sio = socketio.SimpleClient()\n",
    "\n",
    "sio.connect('https://gameservers-eu.codenames.game',socketio_path='/0/socket.io/')\n"
   ],
   "metadata": {
    "collapsed": false,
    "ExecuteTime": {
     "end_time": "2024-01-04T02:42:44.304367400Z",
     "start_time": "2024-01-04T02:42:43.168130600Z"
    }
   },
   "id": "a9ce150912b17d09",
   "execution_count": 41
  },
  {
   "cell_type": "code",
   "outputs": [],
   "source": [],
   "metadata": {
    "collapsed": false
   },
   "id": "1e5afe79377bec48"
  }
 ],
 "metadata": {
  "kernelspec": {
   "display_name": "Python 3",
   "language": "python",
   "name": "python3"
  },
  "language_info": {
   "codemirror_mode": {
    "name": "ipython",
    "version": 2
   },
   "file_extension": ".py",
   "mimetype": "text/x-python",
   "name": "python",
   "nbconvert_exporter": "python",
   "pygments_lexer": "ipython2",
   "version": "2.7.6"
  }
 },
 "nbformat": 4,
 "nbformat_minor": 5
}
